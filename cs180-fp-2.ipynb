{
 "cells": [
  {
   "cell_type": "code",
   "execution_count": 99,
   "metadata": {
    "collapsed": true
   },
   "outputs": [
    {
     "data": {
      "text/plain": "            Daily Max 8-hour CO Concentration  \\\nDate                                            \n2020-01-01                           0.606780   \n2020-01-02                           0.643220   \n2020-01-03                           0.794915   \n2020-01-04                           0.817797   \n2020-01-05                           0.714407   \n\n            Daily Max 1-hour NO2 Concentration  \\\nDate                                             \n2020-01-01                           19.129570   \n2020-01-02                           24.476087   \n2020-01-03                           28.616304   \n2020-01-04                           24.173913   \n2020-01-05                           20.461828   \n\n            Daily Max 8-hour Ozone Concentration  Daily Mean Pb Concentration  \\\nDate                                                                            \n2020-01-01                              0.030783                     0.008000   \n2020-01-02                              0.028740                     0.013000   \n2020-01-03                              0.027643                     0.018990   \n2020-01-04                              0.031677                     0.011233   \n2020-01-05                              0.033058                     0.009000   \n\n            Daily Mean PM10 Concentration  Daily Mean PM2.5 Concentration  \\\nDate                                                                        \n2020-01-01                      17.211765                       13.533446   \n2020-01-02                      16.750000                       11.087611   \n2020-01-03                      19.861446                       13.664307   \n2020-01-04                      19.096774                       11.571699   \n2020-01-05                      13.103659                        9.578448   \n\n            Daily Max 1-hour SO2 Concentration  \nDate                                            \n2020-01-01                               1.236  \n2020-01-02                               1.228  \n2020-01-03                               1.236  \n2020-01-04                               1.140  \n2020-01-05                               0.884  ",
      "text/html": "<div>\n<style scoped>\n    .dataframe tbody tr th:only-of-type {\n        vertical-align: middle;\n    }\n\n    .dataframe tbody tr th {\n        vertical-align: top;\n    }\n\n    .dataframe thead th {\n        text-align: right;\n    }\n</style>\n<table border=\"1\" class=\"dataframe\">\n  <thead>\n    <tr style=\"text-align: right;\">\n      <th></th>\n      <th>Daily Max 8-hour CO Concentration</th>\n      <th>Daily Max 1-hour NO2 Concentration</th>\n      <th>Daily Max 8-hour Ozone Concentration</th>\n      <th>Daily Mean Pb Concentration</th>\n      <th>Daily Mean PM10 Concentration</th>\n      <th>Daily Mean PM2.5 Concentration</th>\n      <th>Daily Max 1-hour SO2 Concentration</th>\n    </tr>\n    <tr>\n      <th>Date</th>\n      <th></th>\n      <th></th>\n      <th></th>\n      <th></th>\n      <th></th>\n      <th></th>\n      <th></th>\n    </tr>\n  </thead>\n  <tbody>\n    <tr>\n      <th>2020-01-01</th>\n      <td>0.606780</td>\n      <td>19.129570</td>\n      <td>0.030783</td>\n      <td>0.008000</td>\n      <td>17.211765</td>\n      <td>13.533446</td>\n      <td>1.236</td>\n    </tr>\n    <tr>\n      <th>2020-01-02</th>\n      <td>0.643220</td>\n      <td>24.476087</td>\n      <td>0.028740</td>\n      <td>0.013000</td>\n      <td>16.750000</td>\n      <td>11.087611</td>\n      <td>1.228</td>\n    </tr>\n    <tr>\n      <th>2020-01-03</th>\n      <td>0.794915</td>\n      <td>28.616304</td>\n      <td>0.027643</td>\n      <td>0.018990</td>\n      <td>19.861446</td>\n      <td>13.664307</td>\n      <td>1.236</td>\n    </tr>\n    <tr>\n      <th>2020-01-04</th>\n      <td>0.817797</td>\n      <td>24.173913</td>\n      <td>0.031677</td>\n      <td>0.011233</td>\n      <td>19.096774</td>\n      <td>11.571699</td>\n      <td>1.140</td>\n    </tr>\n    <tr>\n      <th>2020-01-05</th>\n      <td>0.714407</td>\n      <td>20.461828</td>\n      <td>0.033058</td>\n      <td>0.009000</td>\n      <td>13.103659</td>\n      <td>9.578448</td>\n      <td>0.884</td>\n    </tr>\n  </tbody>\n</table>\n</div>"
     },
     "execution_count": 99,
     "metadata": {},
     "output_type": "execute_result"
    },
    {
     "data": {
      "text/plain": "            Daily Max 8-hour CO Concentration  \\\nDate                                            \n2020-01-01                           0.421117   \n2020-01-02                           0.398177   \n2020-01-03                           0.393545   \n2020-01-04                           0.407776   \n2020-01-05                           0.408503   \n\n            Daily Max 1-hour NO2 Concentration  \\\nDate                                             \n2020-01-01                           17.465129   \n2020-01-02                           17.066677   \n2020-01-03                           18.040451   \n2020-01-04                           19.506657   \n2020-01-05                           19.592124   \n\n            Daily Max 8-hour Ozone Concentration  Daily Mean Pb Concentration  \\\nDate                                                                            \n2020-01-01                              0.044129                     0.008276   \n2020-01-02                              0.044417                     0.009625   \n2020-01-03                              0.044692                     0.011334   \n2020-01-04                              0.043930                     0.009864   \n2020-01-05                              0.044431                     0.008077   \n\n            Daily Mean PM10 Concentration  Daily Mean PM2.5 Concentration  \\\nDate                                                                        \n2020-01-01                      30.204377                        9.791532   \n2020-01-02                      30.158784                       11.344008   \n2020-01-03                      30.537281                        8.643291   \n2020-01-04                      27.113144                       10.212933   \n2020-01-05                      30.267311                       11.748946   \n\n            Daily Max 1-hour SO2 Concentration  \nDate                                            \n2020-01-01                            0.996032  \n2020-01-02                            1.093923  \n2020-01-03                            1.715351  \n2020-01-04                            0.920820  \n2020-01-05                            0.867424  ",
      "text/html": "<div>\n<style scoped>\n    .dataframe tbody tr th:only-of-type {\n        vertical-align: middle;\n    }\n\n    .dataframe tbody tr th {\n        vertical-align: top;\n    }\n\n    .dataframe thead th {\n        text-align: right;\n    }\n</style>\n<table border=\"1\" class=\"dataframe\">\n  <thead>\n    <tr style=\"text-align: right;\">\n      <th></th>\n      <th>Daily Max 8-hour CO Concentration</th>\n      <th>Daily Max 1-hour NO2 Concentration</th>\n      <th>Daily Max 8-hour Ozone Concentration</th>\n      <th>Daily Mean Pb Concentration</th>\n      <th>Daily Mean PM10 Concentration</th>\n      <th>Daily Mean PM2.5 Concentration</th>\n      <th>Daily Max 1-hour SO2 Concentration</th>\n    </tr>\n    <tr>\n      <th>Date</th>\n      <th></th>\n      <th></th>\n      <th></th>\n      <th></th>\n      <th></th>\n      <th></th>\n      <th></th>\n    </tr>\n  </thead>\n  <tbody>\n    <tr>\n      <th>2020-01-01</th>\n      <td>0.421117</td>\n      <td>17.465129</td>\n      <td>0.044129</td>\n      <td>0.008276</td>\n      <td>30.204377</td>\n      <td>9.791532</td>\n      <td>0.996032</td>\n    </tr>\n    <tr>\n      <th>2020-01-02</th>\n      <td>0.398177</td>\n      <td>17.066677</td>\n      <td>0.044417</td>\n      <td>0.009625</td>\n      <td>30.158784</td>\n      <td>11.344008</td>\n      <td>1.093923</td>\n    </tr>\n    <tr>\n      <th>2020-01-03</th>\n      <td>0.393545</td>\n      <td>18.040451</td>\n      <td>0.044692</td>\n      <td>0.011334</td>\n      <td>30.537281</td>\n      <td>8.643291</td>\n      <td>1.715351</td>\n    </tr>\n    <tr>\n      <th>2020-01-04</th>\n      <td>0.407776</td>\n      <td>19.506657</td>\n      <td>0.043930</td>\n      <td>0.009864</td>\n      <td>27.113144</td>\n      <td>10.212933</td>\n      <td>0.920820</td>\n    </tr>\n    <tr>\n      <th>2020-01-05</th>\n      <td>0.408503</td>\n      <td>19.592124</td>\n      <td>0.044431</td>\n      <td>0.008077</td>\n      <td>30.267311</td>\n      <td>11.748946</td>\n      <td>0.867424</td>\n    </tr>\n  </tbody>\n</table>\n</div>"
     },
     "execution_count": 99,
     "metadata": {},
     "output_type": "execute_result"
    },
    {
     "data": {
      "text/plain": "            Daily Max 8-hour CO Concentration  \\\nDate                                            \n2020-01-01                           0.476892   \n2020-01-02                           0.502391   \n2020-01-03                           0.493259   \n2020-01-04                           0.486350   \n2020-01-05                           0.475717   \n\n            Daily Max 1-hour NO2 Concentration  \\\nDate                                             \n2020-01-01                           19.920890   \n2020-01-02                           19.215635   \n2020-01-03                           20.120784   \n2020-01-04                           20.472398   \n2020-01-05                           21.147079   \n\n            Daily Max 8-hour Ozone Concentration  Daily Mean Pb Concentration  \\\nDate                                                                            \n2020-01-01                              0.043637                     0.010526   \n2020-01-02                              0.043188                     0.010061   \n2020-01-03                              0.043198                     0.006170   \n2020-01-04                              0.043339                     0.006181   \n2020-01-05                              0.043486                     0.009130   \n\n            Daily Mean PM10 Concentration  Daily Mean PM2.5 Concentration  \\\nDate                                                                        \n2020-01-01                      54.760354                        9.117983   \n2020-01-02                      46.118125                        9.194244   \n2020-01-03                      31.544113                        9.105370   \n2020-01-04                      25.037581                        8.565060   \n2020-01-05                      25.712634                        9.122562   \n\n            Daily Max 1-hour SO2 Concentration  \nDate                                            \n2020-01-01                            1.359524  \n2020-01-02                            1.177981  \n2020-01-03                            0.758787  \n2020-01-04                            0.927782  \n2020-01-05                            0.852417  ",
      "text/html": "<div>\n<style scoped>\n    .dataframe tbody tr th:only-of-type {\n        vertical-align: middle;\n    }\n\n    .dataframe tbody tr th {\n        vertical-align: top;\n    }\n\n    .dataframe thead th {\n        text-align: right;\n    }\n</style>\n<table border=\"1\" class=\"dataframe\">\n  <thead>\n    <tr style=\"text-align: right;\">\n      <th></th>\n      <th>Daily Max 8-hour CO Concentration</th>\n      <th>Daily Max 1-hour NO2 Concentration</th>\n      <th>Daily Max 8-hour Ozone Concentration</th>\n      <th>Daily Mean Pb Concentration</th>\n      <th>Daily Mean PM10 Concentration</th>\n      <th>Daily Mean PM2.5 Concentration</th>\n      <th>Daily Max 1-hour SO2 Concentration</th>\n    </tr>\n    <tr>\n      <th>Date</th>\n      <th></th>\n      <th></th>\n      <th></th>\n      <th></th>\n      <th></th>\n      <th></th>\n      <th></th>\n    </tr>\n  </thead>\n  <tbody>\n    <tr>\n      <th>2020-01-01</th>\n      <td>0.476892</td>\n      <td>19.920890</td>\n      <td>0.043637</td>\n      <td>0.010526</td>\n      <td>54.760354</td>\n      <td>9.117983</td>\n      <td>1.359524</td>\n    </tr>\n    <tr>\n      <th>2020-01-02</th>\n      <td>0.502391</td>\n      <td>19.215635</td>\n      <td>0.043188</td>\n      <td>0.010061</td>\n      <td>46.118125</td>\n      <td>9.194244</td>\n      <td>1.177981</td>\n    </tr>\n    <tr>\n      <th>2020-01-03</th>\n      <td>0.493259</td>\n      <td>20.120784</td>\n      <td>0.043198</td>\n      <td>0.006170</td>\n      <td>31.544113</td>\n      <td>9.105370</td>\n      <td>0.758787</td>\n    </tr>\n    <tr>\n      <th>2020-01-04</th>\n      <td>0.486350</td>\n      <td>20.472398</td>\n      <td>0.043339</td>\n      <td>0.006181</td>\n      <td>25.037581</td>\n      <td>8.565060</td>\n      <td>0.927782</td>\n    </tr>\n    <tr>\n      <th>2020-01-05</th>\n      <td>0.475717</td>\n      <td>21.147079</td>\n      <td>0.043486</td>\n      <td>0.009130</td>\n      <td>25.712634</td>\n      <td>9.122562</td>\n      <td>0.852417</td>\n    </tr>\n  </tbody>\n</table>\n</div>"
     },
     "execution_count": 99,
     "metadata": {},
     "output_type": "execute_result"
    },
    {
     "data": {
      "text/plain": "            Daily Max 8-hour CO Concentration  \\\nDate                                            \n2020-01-01                           0.606780   \n2020-01-02                           0.643220   \n2020-01-03                           0.794915   \n2020-01-04                           0.817797   \n2020-01-05                           0.714407   \n\n            Daily Max 1-hour NO2 Concentration  \\\nDate                                             \n2020-01-01                           19.129570   \n2020-01-02                           24.476087   \n2020-01-03                           28.616304   \n2020-01-04                           24.173913   \n2020-01-05                           20.461828   \n\n            Daily Max 8-hour Ozone Concentration  Daily Mean Pb Concentration  \\\nDate                                                                            \n2020-01-01                              0.030783                     0.008000   \n2020-01-02                              0.028740                     0.013000   \n2020-01-03                              0.027643                     0.018990   \n2020-01-04                              0.031677                     0.011233   \n2020-01-05                              0.033058                     0.009000   \n\n            Daily Mean PM10 Concentration  Daily Mean PM2.5 Concentration  \\\nDate                                                                        \n2020-01-01                      17.211765                       13.533446   \n2020-01-02                      16.750000                       11.087611   \n2020-01-03                      19.861446                       13.664307   \n2020-01-04                      19.096774                       11.571699   \n2020-01-05                      13.103659                        9.578448   \n\n            Daily Max 1-hour SO2 Concentration  \nDate                                            \n2020-01-01                               1.236  \n2020-01-02                               1.228  \n2020-01-03                               1.236  \n2020-01-04                               1.140  \n2020-01-05                               0.884  ",
      "text/html": "<div>\n<style scoped>\n    .dataframe tbody tr th:only-of-type {\n        vertical-align: middle;\n    }\n\n    .dataframe tbody tr th {\n        vertical-align: top;\n    }\n\n    .dataframe thead th {\n        text-align: right;\n    }\n</style>\n<table border=\"1\" class=\"dataframe\">\n  <thead>\n    <tr style=\"text-align: right;\">\n      <th></th>\n      <th>Daily Max 8-hour CO Concentration</th>\n      <th>Daily Max 1-hour NO2 Concentration</th>\n      <th>Daily Max 8-hour Ozone Concentration</th>\n      <th>Daily Mean Pb Concentration</th>\n      <th>Daily Mean PM10 Concentration</th>\n      <th>Daily Mean PM2.5 Concentration</th>\n      <th>Daily Max 1-hour SO2 Concentration</th>\n    </tr>\n    <tr>\n      <th>Date</th>\n      <th></th>\n      <th></th>\n      <th></th>\n      <th></th>\n      <th></th>\n      <th></th>\n      <th></th>\n    </tr>\n  </thead>\n  <tbody>\n    <tr>\n      <th>2020-01-01</th>\n      <td>0.606780</td>\n      <td>19.129570</td>\n      <td>0.030783</td>\n      <td>0.008000</td>\n      <td>17.211765</td>\n      <td>13.533446</td>\n      <td>1.236</td>\n    </tr>\n    <tr>\n      <th>2020-01-02</th>\n      <td>0.643220</td>\n      <td>24.476087</td>\n      <td>0.028740</td>\n      <td>0.013000</td>\n      <td>16.750000</td>\n      <td>11.087611</td>\n      <td>1.228</td>\n    </tr>\n    <tr>\n      <th>2020-01-03</th>\n      <td>0.794915</td>\n      <td>28.616304</td>\n      <td>0.027643</td>\n      <td>0.018990</td>\n      <td>19.861446</td>\n      <td>13.664307</td>\n      <td>1.236</td>\n    </tr>\n    <tr>\n      <th>2020-01-04</th>\n      <td>0.817797</td>\n      <td>24.173913</td>\n      <td>0.031677</td>\n      <td>0.011233</td>\n      <td>19.096774</td>\n      <td>11.571699</td>\n      <td>1.140</td>\n    </tr>\n    <tr>\n      <th>2020-01-05</th>\n      <td>0.714407</td>\n      <td>20.461828</td>\n      <td>0.033058</td>\n      <td>0.009000</td>\n      <td>13.103659</td>\n      <td>9.578448</td>\n      <td>0.884</td>\n    </tr>\n  </tbody>\n</table>\n</div>"
     },
     "execution_count": 99,
     "metadata": {},
     "output_type": "execute_result"
    },
    {
     "data": {
      "text/plain": "            CO conc (ppm)  NO2 conc (ppb)  O3 conc (ppm)  Pb conc (ug/m3 SC)  \\\nDate                                                                           \n2020-01-01       0.606780       19.129570       0.030783            0.008000   \n2020-01-02       0.643220       24.476087       0.028740            0.013000   \n2020-01-03       0.794915       28.616304       0.027643            0.018990   \n2020-01-04       0.817797       24.173913       0.031677            0.011233   \n2020-01-05       0.714407       20.461828       0.033058            0.009000   \n\n            PM10 conc (ug/m3 SC)  PM2.5 conc (ug/m3 LC)  SO2 conc (ppb)  \nDate                                                                     \n2020-01-01             17.211765              13.533446           1.236  \n2020-01-02             16.750000              11.087611           1.228  \n2020-01-03             19.861446              13.664307           1.236  \n2020-01-04             19.096774              11.571699           1.140  \n2020-01-05             13.103659               9.578448           0.884  ",
      "text/html": "<div>\n<style scoped>\n    .dataframe tbody tr th:only-of-type {\n        vertical-align: middle;\n    }\n\n    .dataframe tbody tr th {\n        vertical-align: top;\n    }\n\n    .dataframe thead th {\n        text-align: right;\n    }\n</style>\n<table border=\"1\" class=\"dataframe\">\n  <thead>\n    <tr style=\"text-align: right;\">\n      <th></th>\n      <th>CO conc (ppm)</th>\n      <th>NO2 conc (ppb)</th>\n      <th>O3 conc (ppm)</th>\n      <th>Pb conc (ug/m3 SC)</th>\n      <th>PM10 conc (ug/m3 SC)</th>\n      <th>PM2.5 conc (ug/m3 LC)</th>\n      <th>SO2 conc (ppb)</th>\n    </tr>\n    <tr>\n      <th>Date</th>\n      <th></th>\n      <th></th>\n      <th></th>\n      <th></th>\n      <th></th>\n      <th></th>\n      <th></th>\n    </tr>\n  </thead>\n  <tbody>\n    <tr>\n      <th>2020-01-01</th>\n      <td>0.606780</td>\n      <td>19.129570</td>\n      <td>0.030783</td>\n      <td>0.008000</td>\n      <td>17.211765</td>\n      <td>13.533446</td>\n      <td>1.236</td>\n    </tr>\n    <tr>\n      <th>2020-01-02</th>\n      <td>0.643220</td>\n      <td>24.476087</td>\n      <td>0.028740</td>\n      <td>0.013000</td>\n      <td>16.750000</td>\n      <td>11.087611</td>\n      <td>1.228</td>\n    </tr>\n    <tr>\n      <th>2020-01-03</th>\n      <td>0.794915</td>\n      <td>28.616304</td>\n      <td>0.027643</td>\n      <td>0.018990</td>\n      <td>19.861446</td>\n      <td>13.664307</td>\n      <td>1.236</td>\n    </tr>\n    <tr>\n      <th>2020-01-04</th>\n      <td>0.817797</td>\n      <td>24.173913</td>\n      <td>0.031677</td>\n      <td>0.011233</td>\n      <td>19.096774</td>\n      <td>11.571699</td>\n      <td>1.140</td>\n    </tr>\n    <tr>\n      <th>2020-01-05</th>\n      <td>0.714407</td>\n      <td>20.461828</td>\n      <td>0.033058</td>\n      <td>0.009000</td>\n      <td>13.103659</td>\n      <td>9.578448</td>\n      <td>0.884</td>\n    </tr>\n  </tbody>\n</table>\n</div>"
     },
     "execution_count": 99,
     "metadata": {},
     "output_type": "execute_result"
    },
    {
     "name": "stdout",
     "output_type": "stream",
     "text": [
      "A: Number of entries with null values: 15\n",
      "A: Number of entries: 1098\n",
      "[IterativeImputer] Completing matrix with shape (1098, 7)\n",
      "[IterativeImputer] Change: 0.009690201551247349, scaled tolerance: 0.2222875 \n",
      "[IterativeImputer] Early stopping criterion reached.\n"
     ]
    },
    {
     "data": {
      "text/plain": "            CO conc (ppm)  NO2 conc (ppb)  O3 conc (ppm)  Pb conc (ug/m3 SC)  \\\nDate                                                                           \n2020-01-01       0.606780       19.129570       0.030783            0.008000   \n2020-01-02       0.643220       24.476087       0.028740            0.013000   \n2020-01-03       0.794915       28.616304       0.027643            0.018990   \n2020-01-04       0.817797       24.173913       0.031677            0.011233   \n2020-01-05       0.714407       20.461828       0.033058            0.009000   \n\n            PM10 conc (ug/m3 SC)  PM2.5 conc (ug/m3 LC)  SO2 conc (ppb)  \nDate                                                                     \n2020-01-01             17.211765              13.533446           1.236  \n2020-01-02             16.750000              11.087611           1.228  \n2020-01-03             19.861446              13.664307           1.236  \n2020-01-04             19.096774              11.571699           1.140  \n2020-01-05             13.103659               9.578448           0.884  ",
      "text/html": "<div>\n<style scoped>\n    .dataframe tbody tr th:only-of-type {\n        vertical-align: middle;\n    }\n\n    .dataframe tbody tr th {\n        vertical-align: top;\n    }\n\n    .dataframe thead th {\n        text-align: right;\n    }\n</style>\n<table border=\"1\" class=\"dataframe\">\n  <thead>\n    <tr style=\"text-align: right;\">\n      <th></th>\n      <th>CO conc (ppm)</th>\n      <th>NO2 conc (ppb)</th>\n      <th>O3 conc (ppm)</th>\n      <th>Pb conc (ug/m3 SC)</th>\n      <th>PM10 conc (ug/m3 SC)</th>\n      <th>PM2.5 conc (ug/m3 LC)</th>\n      <th>SO2 conc (ppb)</th>\n    </tr>\n    <tr>\n      <th>Date</th>\n      <th></th>\n      <th></th>\n      <th></th>\n      <th></th>\n      <th></th>\n      <th></th>\n      <th></th>\n    </tr>\n  </thead>\n  <tbody>\n    <tr>\n      <th>2020-01-01</th>\n      <td>0.606780</td>\n      <td>19.129570</td>\n      <td>0.030783</td>\n      <td>0.008000</td>\n      <td>17.211765</td>\n      <td>13.533446</td>\n      <td>1.236</td>\n    </tr>\n    <tr>\n      <th>2020-01-02</th>\n      <td>0.643220</td>\n      <td>24.476087</td>\n      <td>0.028740</td>\n      <td>0.013000</td>\n      <td>16.750000</td>\n      <td>11.087611</td>\n      <td>1.228</td>\n    </tr>\n    <tr>\n      <th>2020-01-03</th>\n      <td>0.794915</td>\n      <td>28.616304</td>\n      <td>0.027643</td>\n      <td>0.018990</td>\n      <td>19.861446</td>\n      <td>13.664307</td>\n      <td>1.236</td>\n    </tr>\n    <tr>\n      <th>2020-01-04</th>\n      <td>0.817797</td>\n      <td>24.173913</td>\n      <td>0.031677</td>\n      <td>0.011233</td>\n      <td>19.096774</td>\n      <td>11.571699</td>\n      <td>1.140</td>\n    </tr>\n    <tr>\n      <th>2020-01-05</th>\n      <td>0.714407</td>\n      <td>20.461828</td>\n      <td>0.033058</td>\n      <td>0.009000</td>\n      <td>13.103659</td>\n      <td>9.578448</td>\n      <td>0.884</td>\n    </tr>\n  </tbody>\n</table>\n</div>"
     },
     "execution_count": 99,
     "metadata": {},
     "output_type": "execute_result"
    }
   ],
   "source": [
    "%reset -f\n",
    "%config InteractiveShell.ast_node_interactivity = 'all'\n",
    "\n",
    "# Fetching all Air Quality datasets into their dataframes\n",
    "# Perform immediate concatenation per year\n",
    "import os\n",
    "import pandas as pd\n",
    "\n",
    "# Initialize (do not add extra datasets to dir)\n",
    "dir = 'CAdata/'\n",
    "colidx = [0,2,4,17]     # column indexes to use\n",
    "innerkeys = ['Date', 'Site ID', 'COUNTY']\n",
    "dataA2020 = pd.read_csv(dir + 'cf-2020-co.csv', parse_dates=True, usecols=colidx)\n",
    "dataA2021 = pd.read_csv(dir + 'cf-2021-co.csv', parse_dates=True, usecols=colidx)\n",
    "dataA2022 = pd.read_csv(dir + 'cf-2022-co.csv', parse_dates=True, usecols=colidx)\n",
    "\n",
    "with os.scandir(dir) as datasets:\n",
    "    for dataset in datasets:\n",
    "        if dataset.is_file() and 'co' not in dataset.name:\n",
    "            temp = pd.read_csv(dataset, parse_dates=True, usecols=colidx)\n",
    "            if '2020' in dataset.name:\n",
    "                # cols_to_use = dataA2020.columns.difference(temp)\n",
    "                dataA2020 = pd.merge(dataA2020, temp, how='outer', on=innerkeys)\n",
    "            elif '2021' in dataset.name:\n",
    "                # cols_to_use = dataA2021.columns.difference(temp)\n",
    "                dataA2021 = pd.merge(dataA2021, temp, how='outer', on=innerkeys)\n",
    "            elif '2022' in dataset.name:\n",
    "                # cols_to_use = dataA2022.columns.difference(temp)\n",
    "                dataA2022 = pd.merge(dataA2022, temp, how='outer', on=innerkeys)\n",
    "\n",
    "# Parse Dates to date\n",
    "dataA2020['Date'] = pd.to_datetime(dataA2020['Date'])\n",
    "dataA2021['Date'] = pd.to_datetime(dataA2020['Date'])\n",
    "dataA2022['Date'] = pd.to_datetime(dataA2020['Date'])\n",
    "\n",
    "dataA2020 = dataA2020.groupby(by=['Date', 'Site ID']).mean().groupby(by=['Date']).mean()\n",
    "dataA2021 = dataA2021.groupby(by=['Date', 'Site ID']).mean().groupby(by=['Date']).mean()\n",
    "dataA2022 = dataA2022.groupby(by=['Date', 'Site ID']).mean().groupby(by=['Date']).mean()\n",
    "\n",
    "dataA = pd.concat([dataA2020, dataA2021, dataA2022])\n",
    "\n",
    "new_names = ['CO conc (ppm)', 'NO2 conc (ppb)', 'O3 conc (ppm)',\n",
    "             'Pb conc (ug/m3 SC)', 'PM10 conc (ug/m3 SC)',\n",
    "             'PM2.5 conc (ug/m3 LC)', 'SO2 conc (ppb)']\n",
    "\n",
    "dataA2020.head()\n",
    "dataA2021.head()\n",
    "dataA2022.head()\n",
    "dataA.head()\n",
    "\n",
    "# Rename columns\n",
    "for i in range(len(new_names)):\n",
    "    dataA.rename(columns={dataA.columns[i]: new_names[i]}, inplace=True)\n",
    "\n",
    "dataA.head()\n",
    "\n",
    "import seaborn as sns\n",
    "\n",
    "# Deciding whether to drop or impute null values, so we check how many null values there are.\n",
    "# Dataset A impute\n",
    "print(\"A: Number of entries with null values:\", dataA.isna().any(axis=1).sum())\n",
    "print(\"A: Number of entries:\", dataA.shape[0])\n",
    "\n",
    "# These imports are important, imputer relies on them.\n",
    "\n",
    "from sklearn import preprocessing\n",
    "from sklearn.impute import SimpleImputer\n",
    "from sklearn.experimental import enable_iterative_imputer   # Important!\n",
    "from sklearn.impute import IterativeImputer     # default imputer is BayesianRidge\n",
    "\n",
    "from sklearn.linear_model import BayesianRidge\n",
    "\n",
    "# Initialize imputer\n",
    "imp = IterativeImputer(max_iter=100, random_state=1, verbose=True)\n",
    "dataA[:] = imp.fit_transform(dataA)\n",
    "\n",
    "dataA.head()"
   ]
  },
  {
   "cell_type": "code",
   "execution_count": 100,
   "outputs": [
    {
     "data": {
      "text/plain": "  submission_date state  tot_cases  sum_new_cases\n0      03/11/2021    KS     297229            0.0\n1      12/01/2021    ND     163565          809.0\n2      01/02/2022    AS         11            0.0\n3      11/22/2021    AL     841461         1060.0\n4      05/30/2022    AK     251425            0.0",
      "text/html": "<div>\n<style scoped>\n    .dataframe tbody tr th:only-of-type {\n        vertical-align: middle;\n    }\n\n    .dataframe tbody tr th {\n        vertical-align: top;\n    }\n\n    .dataframe thead th {\n        text-align: right;\n    }\n</style>\n<table border=\"1\" class=\"dataframe\">\n  <thead>\n    <tr style=\"text-align: right;\">\n      <th></th>\n      <th>submission_date</th>\n      <th>state</th>\n      <th>tot_cases</th>\n      <th>sum_new_cases</th>\n    </tr>\n  </thead>\n  <tbody>\n    <tr>\n      <th>0</th>\n      <td>03/11/2021</td>\n      <td>KS</td>\n      <td>297229</td>\n      <td>0.0</td>\n    </tr>\n    <tr>\n      <th>1</th>\n      <td>12/01/2021</td>\n      <td>ND</td>\n      <td>163565</td>\n      <td>809.0</td>\n    </tr>\n    <tr>\n      <th>2</th>\n      <td>01/02/2022</td>\n      <td>AS</td>\n      <td>11</td>\n      <td>0.0</td>\n    </tr>\n    <tr>\n      <th>3</th>\n      <td>11/22/2021</td>\n      <td>AL</td>\n      <td>841461</td>\n      <td>1060.0</td>\n    </tr>\n    <tr>\n      <th>4</th>\n      <td>05/30/2022</td>\n      <td>AK</td>\n      <td>251425</td>\n      <td>0.0</td>\n    </tr>\n  </tbody>\n</table>\n</div>"
     },
     "execution_count": 100,
     "metadata": {},
     "output_type": "execute_result"
    },
    {
     "data": {
      "text/plain": "             Date State  Total Cases  Sum New Cases\n15543  06/11/2020    CA       139281         3090.0\n15553  08/18/2020    CA       632667         4636.0\n15562  02/25/2021    CA      3460326         4965.0\n15573  02/10/2021    CA      3362981         8390.0\n15576  09/06/2020    CA       732144         4905.0",
      "text/html": "<div>\n<style scoped>\n    .dataframe tbody tr th:only-of-type {\n        vertical-align: middle;\n    }\n\n    .dataframe tbody tr th {\n        vertical-align: top;\n    }\n\n    .dataframe thead th {\n        text-align: right;\n    }\n</style>\n<table border=\"1\" class=\"dataframe\">\n  <thead>\n    <tr style=\"text-align: right;\">\n      <th></th>\n      <th>Date</th>\n      <th>State</th>\n      <th>Total Cases</th>\n      <th>Sum New Cases</th>\n    </tr>\n  </thead>\n  <tbody>\n    <tr>\n      <th>15543</th>\n      <td>06/11/2020</td>\n      <td>CA</td>\n      <td>139281</td>\n      <td>3090.0</td>\n    </tr>\n    <tr>\n      <th>15553</th>\n      <td>08/18/2020</td>\n      <td>CA</td>\n      <td>632667</td>\n      <td>4636.0</td>\n    </tr>\n    <tr>\n      <th>15562</th>\n      <td>02/25/2021</td>\n      <td>CA</td>\n      <td>3460326</td>\n      <td>4965.0</td>\n    </tr>\n    <tr>\n      <th>15573</th>\n      <td>02/10/2021</td>\n      <td>CA</td>\n      <td>3362981</td>\n      <td>8390.0</td>\n    </tr>\n    <tr>\n      <th>15576</th>\n      <td>09/06/2020</td>\n      <td>CA</td>\n      <td>732144</td>\n      <td>4905.0</td>\n    </tr>\n  </tbody>\n</table>\n</div>"
     },
     "execution_count": 100,
     "metadata": {},
     "output_type": "execute_result"
    },
    {
     "name": "stdout",
     "output_type": "stream",
     "text": [
      "<class 'pandas.core.frame.DataFrame'>\n",
      "DatetimeIndex: 1001 entries, 2020-01-22 to 2022-10-18\n",
      "Data columns (total 2 columns):\n",
      " #   Column         Non-Null Count  Dtype  \n",
      "---  ------         --------------  -----  \n",
      " 0   Total Cases    1001 non-null   int64  \n",
      " 1   Sum New Cases  1001 non-null   float64\n",
      "dtypes: float64(1), int64(1)\n",
      "memory usage: 23.5 KB\n"
     ]
    },
    {
     "data": {
      "text/plain": "            Total Cases  Sum New Cases\nDate                                  \n2020-01-22            0            0.0\n2020-01-23            0            0.0\n2020-01-24            0            0.0\n2020-01-25            0            0.0\n2020-01-26            0            0.0",
      "text/html": "<div>\n<style scoped>\n    .dataframe tbody tr th:only-of-type {\n        vertical-align: middle;\n    }\n\n    .dataframe tbody tr th {\n        vertical-align: top;\n    }\n\n    .dataframe thead th {\n        text-align: right;\n    }\n</style>\n<table border=\"1\" class=\"dataframe\">\n  <thead>\n    <tr style=\"text-align: right;\">\n      <th></th>\n      <th>Total Cases</th>\n      <th>Sum New Cases</th>\n    </tr>\n    <tr>\n      <th>Date</th>\n      <th></th>\n      <th></th>\n    </tr>\n  </thead>\n  <tbody>\n    <tr>\n      <th>2020-01-22</th>\n      <td>0</td>\n      <td>0.0</td>\n    </tr>\n    <tr>\n      <th>2020-01-23</th>\n      <td>0</td>\n      <td>0.0</td>\n    </tr>\n    <tr>\n      <th>2020-01-24</th>\n      <td>0</td>\n      <td>0.0</td>\n    </tr>\n    <tr>\n      <th>2020-01-25</th>\n      <td>0</td>\n      <td>0.0</td>\n    </tr>\n    <tr>\n      <th>2020-01-26</th>\n      <td>0</td>\n      <td>0.0</td>\n    </tr>\n  </tbody>\n</table>\n</div>"
     },
     "execution_count": 100,
     "metadata": {},
     "output_type": "execute_result"
    },
    {
     "name": "stdout",
     "output_type": "stream",
     "text": [
      "Filtered Dataset A\n"
     ]
    },
    {
     "data": {
      "text/plain": "            CO conc (ppm)  NO2 conc (ppb)  O3 conc (ppm)  Pb conc (ug/m3 SC)  \\\nDate                                                                           \n2020-01-22       0.525000       24.782447       0.031561            0.008904   \n2020-01-23       0.670690       26.067553       0.025876            0.010460   \n2020-01-24       0.690351       25.952660       0.026554            0.015000   \n2020-01-25       0.585965       21.463402       0.028829            0.009500   \n2020-01-26       0.508772       17.300521       0.033949            0.007000   \n\n            PM10 conc (ug/m3 SC)  PM2.5 conc (ug/m3 LC)  SO2 conc (ppb)  \nDate                                                                     \n2020-01-22             13.844353               7.054452        0.743478  \n2020-01-23             15.817647               8.524138        1.087500  \n2020-01-24             17.476190               9.846121        1.052174  \n2020-01-25             18.971591              12.164924        1.433333  \n2020-01-26             16.000000              10.825797        0.954167  ",
      "text/html": "<div>\n<style scoped>\n    .dataframe tbody tr th:only-of-type {\n        vertical-align: middle;\n    }\n\n    .dataframe tbody tr th {\n        vertical-align: top;\n    }\n\n    .dataframe thead th {\n        text-align: right;\n    }\n</style>\n<table border=\"1\" class=\"dataframe\">\n  <thead>\n    <tr style=\"text-align: right;\">\n      <th></th>\n      <th>CO conc (ppm)</th>\n      <th>NO2 conc (ppb)</th>\n      <th>O3 conc (ppm)</th>\n      <th>Pb conc (ug/m3 SC)</th>\n      <th>PM10 conc (ug/m3 SC)</th>\n      <th>PM2.5 conc (ug/m3 LC)</th>\n      <th>SO2 conc (ppb)</th>\n    </tr>\n    <tr>\n      <th>Date</th>\n      <th></th>\n      <th></th>\n      <th></th>\n      <th></th>\n      <th></th>\n      <th></th>\n      <th></th>\n    </tr>\n  </thead>\n  <tbody>\n    <tr>\n      <th>2020-01-22</th>\n      <td>0.525000</td>\n      <td>24.782447</td>\n      <td>0.031561</td>\n      <td>0.008904</td>\n      <td>13.844353</td>\n      <td>7.054452</td>\n      <td>0.743478</td>\n    </tr>\n    <tr>\n      <th>2020-01-23</th>\n      <td>0.670690</td>\n      <td>26.067553</td>\n      <td>0.025876</td>\n      <td>0.010460</td>\n      <td>15.817647</td>\n      <td>8.524138</td>\n      <td>1.087500</td>\n    </tr>\n    <tr>\n      <th>2020-01-24</th>\n      <td>0.690351</td>\n      <td>25.952660</td>\n      <td>0.026554</td>\n      <td>0.015000</td>\n      <td>17.476190</td>\n      <td>9.846121</td>\n      <td>1.052174</td>\n    </tr>\n    <tr>\n      <th>2020-01-25</th>\n      <td>0.585965</td>\n      <td>21.463402</td>\n      <td>0.028829</td>\n      <td>0.009500</td>\n      <td>18.971591</td>\n      <td>12.164924</td>\n      <td>1.433333</td>\n    </tr>\n    <tr>\n      <th>2020-01-26</th>\n      <td>0.508772</td>\n      <td>17.300521</td>\n      <td>0.033949</td>\n      <td>0.007000</td>\n      <td>16.000000</td>\n      <td>10.825797</td>\n      <td>0.954167</td>\n    </tr>\n  </tbody>\n</table>\n</div>"
     },
     "execution_count": 100,
     "metadata": {},
     "output_type": "execute_result"
    },
    {
     "name": "stdout",
     "output_type": "stream",
     "text": [
      "B: Number of entries with null values: 0\n",
      "B: Number of entries: 1001\n"
     ]
    }
   ],
   "source": [
    "colidx = [0,1,2,5,6]     # column indexes to use\n",
    "dataB = pd.read_csv('datasets/us_covid_cases_and_deaths_by_state.csv', parse_dates=True, usecols=colidx)\n",
    "sum_new_cases = dataB['new_case'] + dataB['pnew_case']\n",
    "dataB.drop(['new_case', 'pnew_case'], axis=1, inplace=True)\n",
    "dataB['sum_new_cases'] = sum_new_cases\n",
    "dataB.head()\n",
    "\n",
    "dataB.columns = ['Date', 'State', 'Total Cases', 'Sum New Cases']\n",
    "\n",
    "# Filter dataset B\n",
    "dataB = dataB[dataB['State'] == 'CA']\n",
    "dataB.head()\n",
    "\n",
    "# Use Date as index, also drop the State\n",
    "dataB['Date'] = pd.to_datetime(dataB['Date'])\n",
    "dataB.set_index('Date', inplace=True)\n",
    "dataB.sort_index(inplace=True)\n",
    "dataB.drop('State', axis=1, inplace=True)\n",
    "dataB.info()\n",
    "dataB.head()\n",
    "\n",
    "# Filter dataA with temporal restriction given by dataB\n",
    "dataA = dataA[(dataA.index >= dataB.index.min()) &\n",
    "              (dataA.index <= dataB.index.max())]\n",
    "\n",
    "print(\"Filtered Dataset A\")\n",
    "dataA.head()\n",
    "\n",
    "# With the printouts below, we find that there's no need to impute.\n",
    "print(\"B: Number of entries with null values:\", dataB.isna().any(axis=1).sum())\n",
    "print(\"B: Number of entries:\", dataB.shape[0])"
   ],
   "metadata": {
    "collapsed": false
   }
  }
 ],
 "metadata": {
  "kernelspec": {
   "display_name": "Python 3",
   "language": "python",
   "name": "python3"
  },
  "language_info": {
   "codemirror_mode": {
    "name": "ipython",
    "version": 2
   },
   "file_extension": ".py",
   "mimetype": "text/x-python",
   "name": "python",
   "nbconvert_exporter": "python",
   "pygments_lexer": "ipython2",
   "version": "2.7.6"
  }
 },
 "nbformat": 4,
 "nbformat_minor": 0
}
