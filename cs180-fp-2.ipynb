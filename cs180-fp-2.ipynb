{
 "cells": [
  {
   "cell_type": "markdown",
   "source": [
    "\n",
    "# Exploring the Relationship between Air Quality and COVID-19 Infections\n",
    "For this project, our goal is to investigate a **possible** relationship between Air Quality and COVID-19 Infection Rates. To that end, we merged an Air Quality dataset with a COVID-19 dataset, performed preprocessing before and after the merge, trained a regression model on the merged dataset, and performed predictions to test the accuracy of our model.\n",
    "\n",
    "As an exploration, we attempted to exhaust all relevant regression models whose parameters have been appropriately tuned (if possible), from Support Vector Machines to Linear Regressors (we settled with the latter). All relevant preprocessing steps, from data cleaning, feature renaming and imputation, to pruning, feature selection and standardization, have also been taken.\n",
    "\n",
    "To simplify our scope, we have focused only on California Air Quality and COVID-19 datasets, putting a geographical restriction on our approach. The time-series data were sourced directly from the United States Environmental Protection Agency (EPA) and the California State Government respectively. This choice of going abroad is motivated by the difficulty of procuring day-to-day Air Quality and COVID-19 data from the Philippines. We require day-to-day data for a more granular training set.\n",
    "\n",
    "Because our preprocessed dataset only holds continuous quantitative values, regression is the most appropriate modeling approach.\n",
    "\n",
    "**Important:** Because this is an exploratory project, we are not absolutely certain that there exists a significant relationship between Air Quality and COVID-19 datasets. Furthermore, our results, significant or not, can only lend support to hypotheses surrounding Air Quality and COVID-19."
   ],
   "metadata": {
    "collapsed": false
   }
  },
  {
   "cell_type": "markdown",
   "source": [
    "## Importing and Assessing the Datasets\n",
    "Let us look at the samples, features, and other details regarding the dataset so that we better know what we're dealing with. But first, we need to import the datasets into manipulable dataframes. Note: We've already checked the datasets prior to downloading them, but we include this section for completeness.\n",
    "\n",
    "**Terminology:**\n",
    "- **Dataset A** - the dataset containing day-to-day California Air Quality data based on raw pollutant measures, from 2020-2022.\n",
    "Raw source: [https://www.epa.gov/outdoor-air-quality-data/download-daily-data](https://www.epa.gov/outdoor-air-quality-data/download-daily-data)\n",
    "- **Dataset B** - the dataset containing day-to-day New York COVID-19 cases data, from 2020 to 2022.\n",
    "Raw source: [https://data.ca.gov/dataset/covid-19-time-series-metrics-by-county-and-state](https://data.ca.gov/dataset/covid-19-time-series-metrics-by-county-and-state)\n",
    "\n",
    "Note that the reason we started with dataset fragments for Dataset A is because downloading the datasets by year, by state, and then by pollutant type is the only way to do so in the EPA website."
   ],
   "metadata": {
    "collapsed": false
   }
  },
  {
   "cell_type": "markdown",
   "source": [
    "### Importing Dataset A\n",
    "In this section, we will import the pollutant-by-pollutant and then year-by-year fragments (after accumulation) of Dataset A, namely dataA2020, dataA2021, and dataA2022.\n",
    "Next, we'll make preliminary observations on them, and then concatenate them together to form our desired dataset, dataA, that goes from the start of the pandemic on 2020 until the end of 2022."
   ],
   "metadata": {
    "collapsed": false
   }
  },
  {
   "cell_type": "code",
   "execution_count": 1537,
   "outputs": [],
   "source": [
    "# Set Jupyter Notebook to clear all workspace variables before the next complete run\n",
    "%reset -f\n",
    "# Set Jupyter Notebook to print out all interactions.\n",
    "# This enables displaying the contents of a variable or function return value from any part of the code and\n",
    "# not just at the end of code block.\n",
    "%config InteractiveShell.ast_node_interactivity = 'all'\n",
    "\n",
    "# Fetching all Air Quality datasets into their dataframes\n",
    "# Perform immediate concatenation per year\n",
    "import os\n",
    "import pandas as pd\n",
    "\n",
    "# Initialize accumulator datasets using CO (carbon dioxide) datasets (these are temporary)\n",
    "# NOTE: Dataset fragments are all in './CAdata/'\n",
    "datadir = 'CAdata/'\n",
    "colidx = [0,2,4,17]                             # column indexes to use (already looked at CA datasets)\n",
    "innerkeys = ['Date', 'Site ID', 'COUNTY']       # Merge on Date, Site ID, and COUNTY\n",
    "\n",
    "# Because date is an important factor to us, as we read the CSV files, we immediately parse their dates\n",
    "# Note that colidx is applied here, which cherry picks the columns to use from the datasets\n",
    "# wherein the columns contain extraneous information of coordinates and site name.\n",
    "dataA2020 = pd.read_csv(datadir + 'ca-2020-co.csv', parse_dates=True, usecols=colidx)\n",
    "dataA2021 = pd.read_csv(datadir + 'ca-2021-co.csv', parse_dates=True, usecols=colidx)\n",
    "dataA2022 = pd.read_csv(datadir + 'ca-2022-co.csv', parse_dates=True, usecols=colidx)\n",
    "\n",
    "# Iterate through the CAdata directory using os.scandir, and then get all the datasets there\n",
    "# Merge the remaining datasets other than ca-year-co to dataAyear\n",
    "with os.scandir(datadir) as datasets:\n",
    "    for dataset in datasets:\n",
    "        if dataset.is_file() and 'co' not in dataset.name and 'ca' in dataset.name:\n",
    "            temp = pd.read_csv(dataset, parse_dates=True, usecols=colidx)\n",
    "            if '2020' in dataset.name:\n",
    "                dataA2020 = pd.merge(dataA2020, temp, how='outer', on=innerkeys)\n",
    "            elif '2021' in dataset.name:\n",
    "                dataA2021 = pd.merge(dataA2021, temp, how='outer', on=innerkeys)\n",
    "            elif '2022' in dataset.name:\n",
    "                dataA2022 = pd.merge(dataA2022, temp, how='outer', on=innerkeys)"
   ],
   "metadata": {
    "collapsed": false
   }
  },
  {
   "cell_type": "markdown",
   "source": [
    "We used outer join for the merge in order to increase the number of records that we have, especially because the volume of records is crucial for training regressors. We'll handle the NaN values later on with imputation.\n",
    "\n",
    "Now let's take a peek at the dataset A year-by-year fragments. As expected, use of outer join has left us with a lot of NaN values, but thankfully, those values are properly surrounded by existing values on a time-series, hence imputation would be appropriately applied to this. We also find several columns that we could still drop."
   ],
   "metadata": {
    "collapsed": false
   }
  },
  {
   "cell_type": "code",
   "execution_count": 1538,
   "outputs": [
    {
     "data": {
      "text/plain": "         Date   Site ID  Daily Max 8-hour CO Concentration   COUNTY  \\\n0  01/01/2020  60010009                                0.7  Alameda   \n1  01/02/2020  60010009                                0.7  Alameda   \n2  01/03/2020  60010009                                0.9  Alameda   \n3  01/04/2020  60010009                                0.8  Alameda   \n4  01/05/2020  60010009                                0.7  Alameda   \n\n   Daily Max 1-hour NO2 Concentration  Daily Max 8-hour Ozone Concentration  \\\n0                                21.3                                 0.020   \n1                                29.4                                 0.011   \n2                                31.9                                 0.007   \n3                                23.0                                 0.024   \n4                                22.9                                 0.030   \n\n   Daily Mean Pb Concentration  Daily Mean PM10 Concentration  \\\n0                          NaN                            NaN   \n1                          NaN                            NaN   \n2                          NaN                            NaN   \n3                          NaN                            NaN   \n4                          NaN                            NaN   \n\n   Daily Mean PM2.5 Concentration  Daily Max 1-hour SO2 Concentration  \n0                            13.1                                 NaN  \n1                             7.6                                 NaN  \n2                            15.0                                 NaN  \n3                             9.5                                 NaN  \n4                             6.1                                 NaN  ",
      "text/html": "<div>\n<style scoped>\n    .dataframe tbody tr th:only-of-type {\n        vertical-align: middle;\n    }\n\n    .dataframe tbody tr th {\n        vertical-align: top;\n    }\n\n    .dataframe thead th {\n        text-align: right;\n    }\n</style>\n<table border=\"1\" class=\"dataframe\">\n  <thead>\n    <tr style=\"text-align: right;\">\n      <th></th>\n      <th>Date</th>\n      <th>Site ID</th>\n      <th>Daily Max 8-hour CO Concentration</th>\n      <th>COUNTY</th>\n      <th>Daily Max 1-hour NO2 Concentration</th>\n      <th>Daily Max 8-hour Ozone Concentration</th>\n      <th>Daily Mean Pb Concentration</th>\n      <th>Daily Mean PM10 Concentration</th>\n      <th>Daily Mean PM2.5 Concentration</th>\n      <th>Daily Max 1-hour SO2 Concentration</th>\n    </tr>\n  </thead>\n  <tbody>\n    <tr>\n      <th>0</th>\n      <td>01/01/2020</td>\n      <td>60010009</td>\n      <td>0.7</td>\n      <td>Alameda</td>\n      <td>21.3</td>\n      <td>0.020</td>\n      <td>NaN</td>\n      <td>NaN</td>\n      <td>13.1</td>\n      <td>NaN</td>\n    </tr>\n    <tr>\n      <th>1</th>\n      <td>01/02/2020</td>\n      <td>60010009</td>\n      <td>0.7</td>\n      <td>Alameda</td>\n      <td>29.4</td>\n      <td>0.011</td>\n      <td>NaN</td>\n      <td>NaN</td>\n      <td>7.6</td>\n      <td>NaN</td>\n    </tr>\n    <tr>\n      <th>2</th>\n      <td>01/03/2020</td>\n      <td>60010009</td>\n      <td>0.9</td>\n      <td>Alameda</td>\n      <td>31.9</td>\n      <td>0.007</td>\n      <td>NaN</td>\n      <td>NaN</td>\n      <td>15.0</td>\n      <td>NaN</td>\n    </tr>\n    <tr>\n      <th>3</th>\n      <td>01/04/2020</td>\n      <td>60010009</td>\n      <td>0.8</td>\n      <td>Alameda</td>\n      <td>23.0</td>\n      <td>0.024</td>\n      <td>NaN</td>\n      <td>NaN</td>\n      <td>9.5</td>\n      <td>NaN</td>\n    </tr>\n    <tr>\n      <th>4</th>\n      <td>01/05/2020</td>\n      <td>60010009</td>\n      <td>0.7</td>\n      <td>Alameda</td>\n      <td>22.9</td>\n      <td>0.030</td>\n      <td>NaN</td>\n      <td>NaN</td>\n      <td>6.1</td>\n      <td>NaN</td>\n    </tr>\n  </tbody>\n</table>\n</div>"
     },
     "execution_count": 1538,
     "metadata": {},
     "output_type": "execute_result"
    },
    {
     "data": {
      "text/plain": "         Date   Site ID  Daily Max 8-hour CO Concentration   COUNTY  \\\n0  01/01/2021  60010009                                0.7  Alameda   \n1  01/02/2021  60010009                                0.7  Alameda   \n2  01/03/2021  60010009                                0.7  Alameda   \n3  01/04/2021  60010009                                0.7  Alameda   \n4  01/05/2021  60010009                                0.6  Alameda   \n\n   Daily Max 1-hour NO2 Concentration  Daily Max 8-hour Ozone Concentration  \\\n0                                25.0                                 0.019   \n1                                25.2                                 0.014   \n2                                21.9                                 0.016   \n3                                22.2                                 0.030   \n4                                19.1                                 0.023   \n\n   Daily Mean Pb Concentration  Daily Mean PM10 Concentration  \\\n0                          NaN                            NaN   \n1                          NaN                            NaN   \n2                          NaN                            NaN   \n3                          NaN                            NaN   \n4                          NaN                            NaN   \n\n   Daily Mean PM2.5 Concentration  Daily Max 1-hour SO2 Concentration  \n0                            14.2                                 NaN  \n1                             9.4                                 NaN  \n2                            13.7                                 NaN  \n3                             8.2                                 NaN  \n4                             6.6                                 NaN  ",
      "text/html": "<div>\n<style scoped>\n    .dataframe tbody tr th:only-of-type {\n        vertical-align: middle;\n    }\n\n    .dataframe tbody tr th {\n        vertical-align: top;\n    }\n\n    .dataframe thead th {\n        text-align: right;\n    }\n</style>\n<table border=\"1\" class=\"dataframe\">\n  <thead>\n    <tr style=\"text-align: right;\">\n      <th></th>\n      <th>Date</th>\n      <th>Site ID</th>\n      <th>Daily Max 8-hour CO Concentration</th>\n      <th>COUNTY</th>\n      <th>Daily Max 1-hour NO2 Concentration</th>\n      <th>Daily Max 8-hour Ozone Concentration</th>\n      <th>Daily Mean Pb Concentration</th>\n      <th>Daily Mean PM10 Concentration</th>\n      <th>Daily Mean PM2.5 Concentration</th>\n      <th>Daily Max 1-hour SO2 Concentration</th>\n    </tr>\n  </thead>\n  <tbody>\n    <tr>\n      <th>0</th>\n      <td>01/01/2021</td>\n      <td>60010009</td>\n      <td>0.7</td>\n      <td>Alameda</td>\n      <td>25.0</td>\n      <td>0.019</td>\n      <td>NaN</td>\n      <td>NaN</td>\n      <td>14.2</td>\n      <td>NaN</td>\n    </tr>\n    <tr>\n      <th>1</th>\n      <td>01/02/2021</td>\n      <td>60010009</td>\n      <td>0.7</td>\n      <td>Alameda</td>\n      <td>25.2</td>\n      <td>0.014</td>\n      <td>NaN</td>\n      <td>NaN</td>\n      <td>9.4</td>\n      <td>NaN</td>\n    </tr>\n    <tr>\n      <th>2</th>\n      <td>01/03/2021</td>\n      <td>60010009</td>\n      <td>0.7</td>\n      <td>Alameda</td>\n      <td>21.9</td>\n      <td>0.016</td>\n      <td>NaN</td>\n      <td>NaN</td>\n      <td>13.7</td>\n      <td>NaN</td>\n    </tr>\n    <tr>\n      <th>3</th>\n      <td>01/04/2021</td>\n      <td>60010009</td>\n      <td>0.7</td>\n      <td>Alameda</td>\n      <td>22.2</td>\n      <td>0.030</td>\n      <td>NaN</td>\n      <td>NaN</td>\n      <td>8.2</td>\n      <td>NaN</td>\n    </tr>\n    <tr>\n      <th>4</th>\n      <td>01/05/2021</td>\n      <td>60010009</td>\n      <td>0.6</td>\n      <td>Alameda</td>\n      <td>19.1</td>\n      <td>0.023</td>\n      <td>NaN</td>\n      <td>NaN</td>\n      <td>6.6</td>\n      <td>NaN</td>\n    </tr>\n  </tbody>\n</table>\n</div>"
     },
     "execution_count": 1538,
     "metadata": {},
     "output_type": "execute_result"
    },
    {
     "data": {
      "text/plain": "         Date   Site ID  Daily Max 8-hour CO Concentration   COUNTY  \\\n0  01/01/2022  60010009                                0.7  Alameda   \n1  01/02/2022  60010009                                0.6  Alameda   \n2  01/03/2022  60010009                                0.6  Alameda   \n3  01/04/2022  60010009                                0.4  Alameda   \n4  01/05/2022  60010009                                0.4  Alameda   \n\n   Daily Max 1-hour NO2 Concentration  Daily Max 8-hour Ozone Concentration  \\\n0                                22.9                                 0.028   \n1                                25.5                                 0.021   \n2                                20.1                                 0.029   \n3                                23.1                                 0.025   \n4                                29.2                                 0.023   \n\n   Daily Mean Pb Concentration  Daily Mean PM10 Concentration  \\\n0                          NaN                            NaN   \n1                          NaN                            NaN   \n2                          NaN                            NaN   \n3                          NaN                            NaN   \n4                          NaN                            NaN   \n\n   Daily Mean PM2.5 Concentration  Daily Max 1-hour SO2 Concentration  \n0                            13.2                                 NaN  \n1                             8.2                                 NaN  \n2                             3.8                                 NaN  \n3                             3.1                                 NaN  \n4                             4.7                                 NaN  ",
      "text/html": "<div>\n<style scoped>\n    .dataframe tbody tr th:only-of-type {\n        vertical-align: middle;\n    }\n\n    .dataframe tbody tr th {\n        vertical-align: top;\n    }\n\n    .dataframe thead th {\n        text-align: right;\n    }\n</style>\n<table border=\"1\" class=\"dataframe\">\n  <thead>\n    <tr style=\"text-align: right;\">\n      <th></th>\n      <th>Date</th>\n      <th>Site ID</th>\n      <th>Daily Max 8-hour CO Concentration</th>\n      <th>COUNTY</th>\n      <th>Daily Max 1-hour NO2 Concentration</th>\n      <th>Daily Max 8-hour Ozone Concentration</th>\n      <th>Daily Mean Pb Concentration</th>\n      <th>Daily Mean PM10 Concentration</th>\n      <th>Daily Mean PM2.5 Concentration</th>\n      <th>Daily Max 1-hour SO2 Concentration</th>\n    </tr>\n  </thead>\n  <tbody>\n    <tr>\n      <th>0</th>\n      <td>01/01/2022</td>\n      <td>60010009</td>\n      <td>0.7</td>\n      <td>Alameda</td>\n      <td>22.9</td>\n      <td>0.028</td>\n      <td>NaN</td>\n      <td>NaN</td>\n      <td>13.2</td>\n      <td>NaN</td>\n    </tr>\n    <tr>\n      <th>1</th>\n      <td>01/02/2022</td>\n      <td>60010009</td>\n      <td>0.6</td>\n      <td>Alameda</td>\n      <td>25.5</td>\n      <td>0.021</td>\n      <td>NaN</td>\n      <td>NaN</td>\n      <td>8.2</td>\n      <td>NaN</td>\n    </tr>\n    <tr>\n      <th>2</th>\n      <td>01/03/2022</td>\n      <td>60010009</td>\n      <td>0.6</td>\n      <td>Alameda</td>\n      <td>20.1</td>\n      <td>0.029</td>\n      <td>NaN</td>\n      <td>NaN</td>\n      <td>3.8</td>\n      <td>NaN</td>\n    </tr>\n    <tr>\n      <th>3</th>\n      <td>01/04/2022</td>\n      <td>60010009</td>\n      <td>0.4</td>\n      <td>Alameda</td>\n      <td>23.1</td>\n      <td>0.025</td>\n      <td>NaN</td>\n      <td>NaN</td>\n      <td>3.1</td>\n      <td>NaN</td>\n    </tr>\n    <tr>\n      <th>4</th>\n      <td>01/05/2022</td>\n      <td>60010009</td>\n      <td>0.4</td>\n      <td>Alameda</td>\n      <td>29.2</td>\n      <td>0.023</td>\n      <td>NaN</td>\n      <td>NaN</td>\n      <td>4.7</td>\n      <td>NaN</td>\n    </tr>\n  </tbody>\n</table>\n</div>"
     },
     "execution_count": 1538,
     "metadata": {},
     "output_type": "execute_result"
    }
   ],
   "source": [
    "# At this point, dataA2020, dataA2021, and dataA2022 have accumulated the CA dataset year fragments.\n",
    "dataA2020.head()\n",
    "dataA2021.head()\n",
    "dataA2022.head()"
   ],
   "metadata": {
    "collapsed": false
   }
  },
  {
   "cell_type": "markdown",
   "source": [
    "The initial datasets drops the 'Site ID' Column and then groups them by year. These datasets contain the air contents as well as the date in which they are recorded. They are grouped depending on their year since the initial datasets are limited to their own year."
   ],
   "metadata": {
    "collapsed": false
   }
  },
  {
   "cell_type": "code",
   "execution_count": 1539,
   "outputs": [
    {
     "data": {
      "text/plain": "        Date   Site ID  Daily Max 8-hour CO Concentration   COUNTY  \\\n0 2020-01-01  60010009                                0.7  Alameda   \n1 2020-01-02  60010009                                0.7  Alameda   \n2 2020-01-03  60010009                                0.9  Alameda   \n3 2020-01-04  60010009                                0.8  Alameda   \n4 2020-01-05  60010009                                0.7  Alameda   \n\n   Daily Max 1-hour NO2 Concentration  Daily Max 8-hour Ozone Concentration  \\\n0                                21.3                                 0.020   \n1                                29.4                                 0.011   \n2                                31.9                                 0.007   \n3                                23.0                                 0.024   \n4                                22.9                                 0.030   \n\n   Daily Mean Pb Concentration  Daily Mean PM10 Concentration  \\\n0                          NaN                            NaN   \n1                          NaN                            NaN   \n2                          NaN                            NaN   \n3                          NaN                            NaN   \n4                          NaN                            NaN   \n\n   Daily Mean PM2.5 Concentration  Daily Max 1-hour SO2 Concentration  \n0                            13.1                                 NaN  \n1                             7.6                                 NaN  \n2                            15.0                                 NaN  \n3                             9.5                                 NaN  \n4                             6.1                                 NaN  ",
      "text/html": "<div>\n<style scoped>\n    .dataframe tbody tr th:only-of-type {\n        vertical-align: middle;\n    }\n\n    .dataframe tbody tr th {\n        vertical-align: top;\n    }\n\n    .dataframe thead th {\n        text-align: right;\n    }\n</style>\n<table border=\"1\" class=\"dataframe\">\n  <thead>\n    <tr style=\"text-align: right;\">\n      <th></th>\n      <th>Date</th>\n      <th>Site ID</th>\n      <th>Daily Max 8-hour CO Concentration</th>\n      <th>COUNTY</th>\n      <th>Daily Max 1-hour NO2 Concentration</th>\n      <th>Daily Max 8-hour Ozone Concentration</th>\n      <th>Daily Mean Pb Concentration</th>\n      <th>Daily Mean PM10 Concentration</th>\n      <th>Daily Mean PM2.5 Concentration</th>\n      <th>Daily Max 1-hour SO2 Concentration</th>\n    </tr>\n  </thead>\n  <tbody>\n    <tr>\n      <th>0</th>\n      <td>2020-01-01</td>\n      <td>60010009</td>\n      <td>0.7</td>\n      <td>Alameda</td>\n      <td>21.3</td>\n      <td>0.020</td>\n      <td>NaN</td>\n      <td>NaN</td>\n      <td>13.1</td>\n      <td>NaN</td>\n    </tr>\n    <tr>\n      <th>1</th>\n      <td>2020-01-02</td>\n      <td>60010009</td>\n      <td>0.7</td>\n      <td>Alameda</td>\n      <td>29.4</td>\n      <td>0.011</td>\n      <td>NaN</td>\n      <td>NaN</td>\n      <td>7.6</td>\n      <td>NaN</td>\n    </tr>\n    <tr>\n      <th>2</th>\n      <td>2020-01-03</td>\n      <td>60010009</td>\n      <td>0.9</td>\n      <td>Alameda</td>\n      <td>31.9</td>\n      <td>0.007</td>\n      <td>NaN</td>\n      <td>NaN</td>\n      <td>15.0</td>\n      <td>NaN</td>\n    </tr>\n    <tr>\n      <th>3</th>\n      <td>2020-01-04</td>\n      <td>60010009</td>\n      <td>0.8</td>\n      <td>Alameda</td>\n      <td>23.0</td>\n      <td>0.024</td>\n      <td>NaN</td>\n      <td>NaN</td>\n      <td>9.5</td>\n      <td>NaN</td>\n    </tr>\n    <tr>\n      <th>4</th>\n      <td>2020-01-05</td>\n      <td>60010009</td>\n      <td>0.7</td>\n      <td>Alameda</td>\n      <td>22.9</td>\n      <td>0.030</td>\n      <td>NaN</td>\n      <td>NaN</td>\n      <td>6.1</td>\n      <td>NaN</td>\n    </tr>\n  </tbody>\n</table>\n</div>"
     },
     "execution_count": 1539,
     "metadata": {},
     "output_type": "execute_result"
    },
    {
     "data": {
      "text/plain": "        Date   Site ID  Daily Max 8-hour CO Concentration   COUNTY  \\\n0 2021-01-01  60010009                                0.7  Alameda   \n1 2021-01-02  60010009                                0.7  Alameda   \n2 2021-01-03  60010009                                0.7  Alameda   \n3 2021-01-04  60010009                                0.7  Alameda   \n4 2021-01-05  60010009                                0.6  Alameda   \n\n   Daily Max 1-hour NO2 Concentration  Daily Max 8-hour Ozone Concentration  \\\n0                                25.0                                 0.019   \n1                                25.2                                 0.014   \n2                                21.9                                 0.016   \n3                                22.2                                 0.030   \n4                                19.1                                 0.023   \n\n   Daily Mean Pb Concentration  Daily Mean PM10 Concentration  \\\n0                          NaN                            NaN   \n1                          NaN                            NaN   \n2                          NaN                            NaN   \n3                          NaN                            NaN   \n4                          NaN                            NaN   \n\n   Daily Mean PM2.5 Concentration  Daily Max 1-hour SO2 Concentration  \n0                            14.2                                 NaN  \n1                             9.4                                 NaN  \n2                            13.7                                 NaN  \n3                             8.2                                 NaN  \n4                             6.6                                 NaN  ",
      "text/html": "<div>\n<style scoped>\n    .dataframe tbody tr th:only-of-type {\n        vertical-align: middle;\n    }\n\n    .dataframe tbody tr th {\n        vertical-align: top;\n    }\n\n    .dataframe thead th {\n        text-align: right;\n    }\n</style>\n<table border=\"1\" class=\"dataframe\">\n  <thead>\n    <tr style=\"text-align: right;\">\n      <th></th>\n      <th>Date</th>\n      <th>Site ID</th>\n      <th>Daily Max 8-hour CO Concentration</th>\n      <th>COUNTY</th>\n      <th>Daily Max 1-hour NO2 Concentration</th>\n      <th>Daily Max 8-hour Ozone Concentration</th>\n      <th>Daily Mean Pb Concentration</th>\n      <th>Daily Mean PM10 Concentration</th>\n      <th>Daily Mean PM2.5 Concentration</th>\n      <th>Daily Max 1-hour SO2 Concentration</th>\n    </tr>\n  </thead>\n  <tbody>\n    <tr>\n      <th>0</th>\n      <td>2021-01-01</td>\n      <td>60010009</td>\n      <td>0.7</td>\n      <td>Alameda</td>\n      <td>25.0</td>\n      <td>0.019</td>\n      <td>NaN</td>\n      <td>NaN</td>\n      <td>14.2</td>\n      <td>NaN</td>\n    </tr>\n    <tr>\n      <th>1</th>\n      <td>2021-01-02</td>\n      <td>60010009</td>\n      <td>0.7</td>\n      <td>Alameda</td>\n      <td>25.2</td>\n      <td>0.014</td>\n      <td>NaN</td>\n      <td>NaN</td>\n      <td>9.4</td>\n      <td>NaN</td>\n    </tr>\n    <tr>\n      <th>2</th>\n      <td>2021-01-03</td>\n      <td>60010009</td>\n      <td>0.7</td>\n      <td>Alameda</td>\n      <td>21.9</td>\n      <td>0.016</td>\n      <td>NaN</td>\n      <td>NaN</td>\n      <td>13.7</td>\n      <td>NaN</td>\n    </tr>\n    <tr>\n      <th>3</th>\n      <td>2021-01-04</td>\n      <td>60010009</td>\n      <td>0.7</td>\n      <td>Alameda</td>\n      <td>22.2</td>\n      <td>0.030</td>\n      <td>NaN</td>\n      <td>NaN</td>\n      <td>8.2</td>\n      <td>NaN</td>\n    </tr>\n    <tr>\n      <th>4</th>\n      <td>2021-01-05</td>\n      <td>60010009</td>\n      <td>0.6</td>\n      <td>Alameda</td>\n      <td>19.1</td>\n      <td>0.023</td>\n      <td>NaN</td>\n      <td>NaN</td>\n      <td>6.6</td>\n      <td>NaN</td>\n    </tr>\n  </tbody>\n</table>\n</div>"
     },
     "execution_count": 1539,
     "metadata": {},
     "output_type": "execute_result"
    },
    {
     "data": {
      "text/plain": "        Date   Site ID  Daily Max 8-hour CO Concentration   COUNTY  \\\n0 2022-01-01  60010009                                0.7  Alameda   \n1 2022-01-02  60010009                                0.6  Alameda   \n2 2022-01-03  60010009                                0.6  Alameda   \n3 2022-01-04  60010009                                0.4  Alameda   \n4 2022-01-05  60010009                                0.4  Alameda   \n\n   Daily Max 1-hour NO2 Concentration  Daily Max 8-hour Ozone Concentration  \\\n0                                22.9                                 0.028   \n1                                25.5                                 0.021   \n2                                20.1                                 0.029   \n3                                23.1                                 0.025   \n4                                29.2                                 0.023   \n\n   Daily Mean Pb Concentration  Daily Mean PM10 Concentration  \\\n0                          NaN                            NaN   \n1                          NaN                            NaN   \n2                          NaN                            NaN   \n3                          NaN                            NaN   \n4                          NaN                            NaN   \n\n   Daily Mean PM2.5 Concentration  Daily Max 1-hour SO2 Concentration  \n0                            13.2                                 NaN  \n1                             8.2                                 NaN  \n2                             3.8                                 NaN  \n3                             3.1                                 NaN  \n4                             4.7                                 NaN  ",
      "text/html": "<div>\n<style scoped>\n    .dataframe tbody tr th:only-of-type {\n        vertical-align: middle;\n    }\n\n    .dataframe tbody tr th {\n        vertical-align: top;\n    }\n\n    .dataframe thead th {\n        text-align: right;\n    }\n</style>\n<table border=\"1\" class=\"dataframe\">\n  <thead>\n    <tr style=\"text-align: right;\">\n      <th></th>\n      <th>Date</th>\n      <th>Site ID</th>\n      <th>Daily Max 8-hour CO Concentration</th>\n      <th>COUNTY</th>\n      <th>Daily Max 1-hour NO2 Concentration</th>\n      <th>Daily Max 8-hour Ozone Concentration</th>\n      <th>Daily Mean Pb Concentration</th>\n      <th>Daily Mean PM10 Concentration</th>\n      <th>Daily Mean PM2.5 Concentration</th>\n      <th>Daily Max 1-hour SO2 Concentration</th>\n    </tr>\n  </thead>\n  <tbody>\n    <tr>\n      <th>0</th>\n      <td>2022-01-01</td>\n      <td>60010009</td>\n      <td>0.7</td>\n      <td>Alameda</td>\n      <td>22.9</td>\n      <td>0.028</td>\n      <td>NaN</td>\n      <td>NaN</td>\n      <td>13.2</td>\n      <td>NaN</td>\n    </tr>\n    <tr>\n      <th>1</th>\n      <td>2022-01-02</td>\n      <td>60010009</td>\n      <td>0.6</td>\n      <td>Alameda</td>\n      <td>25.5</td>\n      <td>0.021</td>\n      <td>NaN</td>\n      <td>NaN</td>\n      <td>8.2</td>\n      <td>NaN</td>\n    </tr>\n    <tr>\n      <th>2</th>\n      <td>2022-01-03</td>\n      <td>60010009</td>\n      <td>0.6</td>\n      <td>Alameda</td>\n      <td>20.1</td>\n      <td>0.029</td>\n      <td>NaN</td>\n      <td>NaN</td>\n      <td>3.8</td>\n      <td>NaN</td>\n    </tr>\n    <tr>\n      <th>3</th>\n      <td>2022-01-04</td>\n      <td>60010009</td>\n      <td>0.4</td>\n      <td>Alameda</td>\n      <td>23.1</td>\n      <td>0.025</td>\n      <td>NaN</td>\n      <td>NaN</td>\n      <td>3.1</td>\n      <td>NaN</td>\n    </tr>\n    <tr>\n      <th>4</th>\n      <td>2022-01-05</td>\n      <td>60010009</td>\n      <td>0.4</td>\n      <td>Alameda</td>\n      <td>29.2</td>\n      <td>0.023</td>\n      <td>NaN</td>\n      <td>NaN</td>\n      <td>4.7</td>\n      <td>NaN</td>\n    </tr>\n  </tbody>\n</table>\n</div>"
     },
     "execution_count": 1539,
     "metadata": {},
     "output_type": "execute_result"
    },
    {
     "data": {
      "text/plain": "            Daily Max 8-hour CO Concentration  \\\nDate                                            \n2020-01-01                           0.636559   \n2020-01-02                           0.697647   \n2020-01-03                           0.845238   \n2020-01-04                           1.049138   \n2020-01-05                           0.792941   \n\n            Daily Max 1-hour NO2 Concentration  \\\nDate                                             \n2020-01-01                           21.474615   \n2020-01-02                           26.564463   \n2020-01-03                           31.382500   \n2020-01-04                           32.154152   \n2020-01-05                           22.521138   \n\n            Daily Max 8-hour Ozone Concentration  Daily Mean Pb Concentration  \\\nDate                                                                            \n2020-01-01                              0.030969                     0.008000   \n2020-01-02                              0.028227                     0.013000   \n2020-01-03                              0.026872                     0.018990   \n2020-01-04                              0.029897                     0.011074   \n2020-01-05                              0.032683                     0.009000   \n\n            Daily Mean PM10 Concentration  Daily Mean PM2.5 Concentration  \\\nDate                                                                        \n2020-01-01                      20.491525                       15.203015   \n2020-01-02                      18.468085                       12.619178   \n2020-01-03                      21.129032                       14.427778   \n2020-01-04                      29.707692                       16.439510   \n2020-01-05                      13.905263                       10.883221   \n\n            Daily Max 1-hour SO2 Concentration  \nDate                                            \n2020-01-01                            0.972549  \n2020-01-02                            1.077083  \n2020-01-03                            1.044681  \n2020-01-04                            0.983929  \n2020-01-05                            0.766667  ",
      "text/html": "<div>\n<style scoped>\n    .dataframe tbody tr th:only-of-type {\n        vertical-align: middle;\n    }\n\n    .dataframe tbody tr th {\n        vertical-align: top;\n    }\n\n    .dataframe thead th {\n        text-align: right;\n    }\n</style>\n<table border=\"1\" class=\"dataframe\">\n  <thead>\n    <tr style=\"text-align: right;\">\n      <th></th>\n      <th>Daily Max 8-hour CO Concentration</th>\n      <th>Daily Max 1-hour NO2 Concentration</th>\n      <th>Daily Max 8-hour Ozone Concentration</th>\n      <th>Daily Mean Pb Concentration</th>\n      <th>Daily Mean PM10 Concentration</th>\n      <th>Daily Mean PM2.5 Concentration</th>\n      <th>Daily Max 1-hour SO2 Concentration</th>\n    </tr>\n    <tr>\n      <th>Date</th>\n      <th></th>\n      <th></th>\n      <th></th>\n      <th></th>\n      <th></th>\n      <th></th>\n      <th></th>\n    </tr>\n  </thead>\n  <tbody>\n    <tr>\n      <th>2020-01-01</th>\n      <td>0.636559</td>\n      <td>21.474615</td>\n      <td>0.030969</td>\n      <td>0.008000</td>\n      <td>20.491525</td>\n      <td>15.203015</td>\n      <td>0.972549</td>\n    </tr>\n    <tr>\n      <th>2020-01-02</th>\n      <td>0.697647</td>\n      <td>26.564463</td>\n      <td>0.028227</td>\n      <td>0.013000</td>\n      <td>18.468085</td>\n      <td>12.619178</td>\n      <td>1.077083</td>\n    </tr>\n    <tr>\n      <th>2020-01-03</th>\n      <td>0.845238</td>\n      <td>31.382500</td>\n      <td>0.026872</td>\n      <td>0.018990</td>\n      <td>21.129032</td>\n      <td>14.427778</td>\n      <td>1.044681</td>\n    </tr>\n    <tr>\n      <th>2020-01-04</th>\n      <td>1.049138</td>\n      <td>32.154152</td>\n      <td>0.029897</td>\n      <td>0.011074</td>\n      <td>29.707692</td>\n      <td>16.439510</td>\n      <td>0.983929</td>\n    </tr>\n    <tr>\n      <th>2020-01-05</th>\n      <td>0.792941</td>\n      <td>22.521138</td>\n      <td>0.032683</td>\n      <td>0.009000</td>\n      <td>13.905263</td>\n      <td>10.883221</td>\n      <td>0.766667</td>\n    </tr>\n  </tbody>\n</table>\n</div>"
     },
     "execution_count": 1539,
     "metadata": {},
     "output_type": "execute_result"
    },
    {
     "data": {
      "text/plain": "            Daily Max 8-hour CO Concentration  \\\nDate                                            \n2021-01-01                           0.665000   \n2021-01-02                           0.657895   \n2021-01-03                           0.663158   \n2021-01-04                           0.709740   \n2021-01-05                           0.711842   \n\n            Daily Max 1-hour NO2 Concentration  \\\nDate                                             \n2021-01-01                           22.645000   \n2021-01-02                           22.458475   \n2021-01-03                           21.499145   \n2021-01-04                           27.123196   \n2021-01-05                           27.218966   \n\n            Daily Max 8-hour Ozone Concentration  Daily Mean Pb Concentration  \\\nDate                                                                            \n2021-01-01                              0.030844                     0.021500   \n2021-01-02                              0.028398                     0.010000   \n2021-01-03                              0.029293                     0.008000   \n2021-01-04                              0.029920                     0.006776   \n2021-01-05                              0.026878                     0.027000   \n\n            Daily Mean PM10 Concentration  Daily Mean PM2.5 Concentration  \\\nDate                                                                        \n2021-01-01                      16.342105                       14.104615   \n2021-01-02                      18.055556                       12.370199   \n2021-01-03                      19.090909                       14.147368   \n2021-01-04                      24.549550                       14.059341   \n2021-01-05                      17.977528                       12.394079   \n\n            Daily Max 1-hour SO2 Concentration  \nDate                                            \n2021-01-01                            0.950000  \n2021-01-02                            0.820455  \n2021-01-03                            0.720930  \n2021-01-04                            0.725000  \n2021-01-05                            0.892857  ",
      "text/html": "<div>\n<style scoped>\n    .dataframe tbody tr th:only-of-type {\n        vertical-align: middle;\n    }\n\n    .dataframe tbody tr th {\n        vertical-align: top;\n    }\n\n    .dataframe thead th {\n        text-align: right;\n    }\n</style>\n<table border=\"1\" class=\"dataframe\">\n  <thead>\n    <tr style=\"text-align: right;\">\n      <th></th>\n      <th>Daily Max 8-hour CO Concentration</th>\n      <th>Daily Max 1-hour NO2 Concentration</th>\n      <th>Daily Max 8-hour Ozone Concentration</th>\n      <th>Daily Mean Pb Concentration</th>\n      <th>Daily Mean PM10 Concentration</th>\n      <th>Daily Mean PM2.5 Concentration</th>\n      <th>Daily Max 1-hour SO2 Concentration</th>\n    </tr>\n    <tr>\n      <th>Date</th>\n      <th></th>\n      <th></th>\n      <th></th>\n      <th></th>\n      <th></th>\n      <th></th>\n      <th></th>\n    </tr>\n  </thead>\n  <tbody>\n    <tr>\n      <th>2021-01-01</th>\n      <td>0.665000</td>\n      <td>22.645000</td>\n      <td>0.030844</td>\n      <td>0.021500</td>\n      <td>16.342105</td>\n      <td>14.104615</td>\n      <td>0.950000</td>\n    </tr>\n    <tr>\n      <th>2021-01-02</th>\n      <td>0.657895</td>\n      <td>22.458475</td>\n      <td>0.028398</td>\n      <td>0.010000</td>\n      <td>18.055556</td>\n      <td>12.370199</td>\n      <td>0.820455</td>\n    </tr>\n    <tr>\n      <th>2021-01-03</th>\n      <td>0.663158</td>\n      <td>21.499145</td>\n      <td>0.029293</td>\n      <td>0.008000</td>\n      <td>19.090909</td>\n      <td>14.147368</td>\n      <td>0.720930</td>\n    </tr>\n    <tr>\n      <th>2021-01-04</th>\n      <td>0.709740</td>\n      <td>27.123196</td>\n      <td>0.029920</td>\n      <td>0.006776</td>\n      <td>24.549550</td>\n      <td>14.059341</td>\n      <td>0.725000</td>\n    </tr>\n    <tr>\n      <th>2021-01-05</th>\n      <td>0.711842</td>\n      <td>27.218966</td>\n      <td>0.026878</td>\n      <td>0.027000</td>\n      <td>17.977528</td>\n      <td>12.394079</td>\n      <td>0.892857</td>\n    </tr>\n  </tbody>\n</table>\n</div>"
     },
     "execution_count": 1539,
     "metadata": {},
     "output_type": "execute_result"
    },
    {
     "data": {
      "text/plain": "            Daily Max 8-hour CO Concentration  \\\nDate                                            \n2022-01-01                           0.556000   \n2022-01-02                           0.552688   \n2022-01-03                           0.700000   \n2022-01-04                           0.762667   \n2022-01-05                           1.031157   \n\n            Daily Max 1-hour NO2 Concentration  \\\nDate                                             \n2022-01-01                           21.297581   \n2022-01-02                           25.704167   \n2022-01-03                           28.399194   \n2022-01-04                           29.063934   \n2022-01-05                           41.096725   \n\n            Daily Max 8-hour Ozone Concentration  Daily Mean Pb Concentration  \\\nDate                                                                            \n2022-01-01                              0.034212                          NaN   \n2022-01-02                              0.032208                          NaN   \n2022-01-03                              0.030789                          NaN   \n2022-01-04                              0.029168                          NaN   \n2022-01-05                              0.022163                      0.01166   \n\n            Daily Mean PM10 Concentration  Daily Mean PM2.5 Concentration  \\\nDate                                                                        \n2022-01-01                      14.615385                       10.865663   \n2022-01-02                      13.600000                        8.823744   \n2022-01-03                      18.560345                        8.744785   \n2022-01-04                      21.894737                        9.966061   \n2022-01-05                      35.697400                       16.667782   \n\n            Daily Max 1-hour SO2 Concentration  \nDate                                            \n2022-01-01                            0.541860  \n2022-01-02                            0.730508  \n2022-01-03                            0.925581  \n2022-01-04                            1.142857  \n2022-01-05                            1.211684  ",
      "text/html": "<div>\n<style scoped>\n    .dataframe tbody tr th:only-of-type {\n        vertical-align: middle;\n    }\n\n    .dataframe tbody tr th {\n        vertical-align: top;\n    }\n\n    .dataframe thead th {\n        text-align: right;\n    }\n</style>\n<table border=\"1\" class=\"dataframe\">\n  <thead>\n    <tr style=\"text-align: right;\">\n      <th></th>\n      <th>Daily Max 8-hour CO Concentration</th>\n      <th>Daily Max 1-hour NO2 Concentration</th>\n      <th>Daily Max 8-hour Ozone Concentration</th>\n      <th>Daily Mean Pb Concentration</th>\n      <th>Daily Mean PM10 Concentration</th>\n      <th>Daily Mean PM2.5 Concentration</th>\n      <th>Daily Max 1-hour SO2 Concentration</th>\n    </tr>\n    <tr>\n      <th>Date</th>\n      <th></th>\n      <th></th>\n      <th></th>\n      <th></th>\n      <th></th>\n      <th></th>\n      <th></th>\n    </tr>\n  </thead>\n  <tbody>\n    <tr>\n      <th>2022-01-01</th>\n      <td>0.556000</td>\n      <td>21.297581</td>\n      <td>0.034212</td>\n      <td>NaN</td>\n      <td>14.615385</td>\n      <td>10.865663</td>\n      <td>0.541860</td>\n    </tr>\n    <tr>\n      <th>2022-01-02</th>\n      <td>0.552688</td>\n      <td>25.704167</td>\n      <td>0.032208</td>\n      <td>NaN</td>\n      <td>13.600000</td>\n      <td>8.823744</td>\n      <td>0.730508</td>\n    </tr>\n    <tr>\n      <th>2022-01-03</th>\n      <td>0.700000</td>\n      <td>28.399194</td>\n      <td>0.030789</td>\n      <td>NaN</td>\n      <td>18.560345</td>\n      <td>8.744785</td>\n      <td>0.925581</td>\n    </tr>\n    <tr>\n      <th>2022-01-04</th>\n      <td>0.762667</td>\n      <td>29.063934</td>\n      <td>0.029168</td>\n      <td>NaN</td>\n      <td>21.894737</td>\n      <td>9.966061</td>\n      <td>1.142857</td>\n    </tr>\n    <tr>\n      <th>2022-01-05</th>\n      <td>1.031157</td>\n      <td>41.096725</td>\n      <td>0.022163</td>\n      <td>0.01166</td>\n      <td>35.697400</td>\n      <td>16.667782</td>\n      <td>1.211684</td>\n    </tr>\n  </tbody>\n</table>\n</div>"
     },
     "execution_count": 1539,
     "metadata": {},
     "output_type": "execute_result"
    }
   ],
   "source": [
    "# We then parse Dates to date\n",
    "dataA2020['Date'] = pd.to_datetime(dataA2020['Date'])\n",
    "dataA2021['Date'] = pd.to_datetime(dataA2021['Date'])\n",
    "dataA2022['Date'] = pd.to_datetime(dataA2022['Date'])\n",
    "dataA2020.head()\n",
    "dataA2021.head()\n",
    "dataA2022.head()\n",
    "\n",
    "# Group data by Date and Site ID, then by Date again to remove the Site ID feature\n",
    "# Result would be mean measurements per day\n",
    "dataA2020 = dataA2020.drop(columns=['Site ID'], axis=1).groupby(by=['Date']).mean()\n",
    "dataA2021 = dataA2021.drop(columns=['Site ID'], axis=1).groupby(by=['Date']).mean()\n",
    "dataA2022 = dataA2022.drop(columns=['Site ID'], axis=1).groupby(by=['Date']).mean()\n",
    "dataA2020.head()\n",
    "dataA2021.head()\n",
    "dataA2022.head()"
   ],
   "metadata": {
    "collapsed": false
   }
  },
  {
   "cell_type": "markdown",
   "source": [
    "## Merging of Temporary Datasets into one dataset (Dataset A)\n",
    "This is where Air Particles concentration from each year are merged into one whole dataset (2020-2023) which will be used later on."
   ],
   "metadata": {
    "collapsed": false
   }
  },
  {
   "cell_type": "code",
   "execution_count": 1540,
   "outputs": [
    {
     "name": "stdout",
     "output_type": "stream",
     "text": [
      "Combined dataset (Date set as index)\n"
     ]
    },
    {
     "data": {
      "text/plain": "            Daily Max 8-hour CO Concentration  \\\nDate                                            \n2020-01-01                           0.636559   \n2020-01-02                           0.697647   \n2020-01-03                           0.845238   \n2020-01-04                           1.049138   \n2020-01-05                           0.792941   \n...                                       ...   \n2022-12-27                           0.814925   \n2022-12-28                           0.409756   \n2022-12-29                           0.392063   \n2022-12-30                           0.355224   \n2022-12-31                           0.294660   \n\n            Daily Max 1-hour NO2 Concentration  \\\nDate                                             \n2020-01-01                           21.474615   \n2020-01-02                           26.564463   \n2020-01-03                           31.382500   \n2020-01-04                           32.154152   \n2020-01-05                           22.521138   \n...                                        ...   \n2022-12-27                           25.993333   \n2022-12-28                           20.100000   \n2022-12-29                           17.505660   \n2022-12-30                           15.582569   \n2022-12-31                           12.788538   \n\n            Daily Max 8-hour Ozone Concentration  Daily Mean Pb Concentration  \\\nDate                                                                            \n2020-01-01                              0.030969                     0.008000   \n2020-01-02                              0.028227                     0.013000   \n2020-01-03                              0.026872                     0.018990   \n2020-01-04                              0.029897                     0.011074   \n2020-01-05                              0.032683                     0.009000   \n...                                          ...                          ...   \n2022-12-27                              0.027554                          NaN   \n2022-12-28                              0.030041                          NaN   \n2022-12-29                              0.028821                     0.004000   \n2022-12-30                              0.022930                          NaN   \n2022-12-31                              0.023673                     0.000649   \n\n            Daily Mean PM10 Concentration  Daily Mean PM2.5 Concentration  \\\nDate                                                                        \n2020-01-01                      20.491525                       15.203015   \n2020-01-02                      18.468085                       12.619178   \n2020-01-03                      21.129032                       14.427778   \n2020-01-04                      29.707692                       16.439510   \n2020-01-05                      13.905263                       10.883221   \n...                                   ...                             ...   \n2022-12-27                      20.254386                        8.294737   \n2022-12-28                      12.185185                        7.471809   \n2022-12-29                      12.609091                        6.344000   \n2022-12-30                      13.725664                        4.817881   \n2022-12-31                       8.779783                        4.126791   \n\n            Daily Max 1-hour SO2 Concentration  \nDate                                            \n2020-01-01                            0.972549  \n2020-01-02                            1.077083  \n2020-01-03                            1.044681  \n2020-01-04                            0.983929  \n2020-01-05                            0.766667  \n...                                        ...  \n2022-12-27                            0.761111  \n2022-12-28                            0.555769  \n2022-12-29                            0.361765  \n2022-12-30                            1.661538  \n2022-12-31                            0.123602  \n\n[1096 rows x 7 columns]",
      "text/html": "<div>\n<style scoped>\n    .dataframe tbody tr th:only-of-type {\n        vertical-align: middle;\n    }\n\n    .dataframe tbody tr th {\n        vertical-align: top;\n    }\n\n    .dataframe thead th {\n        text-align: right;\n    }\n</style>\n<table border=\"1\" class=\"dataframe\">\n  <thead>\n    <tr style=\"text-align: right;\">\n      <th></th>\n      <th>Daily Max 8-hour CO Concentration</th>\n      <th>Daily Max 1-hour NO2 Concentration</th>\n      <th>Daily Max 8-hour Ozone Concentration</th>\n      <th>Daily Mean Pb Concentration</th>\n      <th>Daily Mean PM10 Concentration</th>\n      <th>Daily Mean PM2.5 Concentration</th>\n      <th>Daily Max 1-hour SO2 Concentration</th>\n    </tr>\n    <tr>\n      <th>Date</th>\n      <th></th>\n      <th></th>\n      <th></th>\n      <th></th>\n      <th></th>\n      <th></th>\n      <th></th>\n    </tr>\n  </thead>\n  <tbody>\n    <tr>\n      <th>2020-01-01</th>\n      <td>0.636559</td>\n      <td>21.474615</td>\n      <td>0.030969</td>\n      <td>0.008000</td>\n      <td>20.491525</td>\n      <td>15.203015</td>\n      <td>0.972549</td>\n    </tr>\n    <tr>\n      <th>2020-01-02</th>\n      <td>0.697647</td>\n      <td>26.564463</td>\n      <td>0.028227</td>\n      <td>0.013000</td>\n      <td>18.468085</td>\n      <td>12.619178</td>\n      <td>1.077083</td>\n    </tr>\n    <tr>\n      <th>2020-01-03</th>\n      <td>0.845238</td>\n      <td>31.382500</td>\n      <td>0.026872</td>\n      <td>0.018990</td>\n      <td>21.129032</td>\n      <td>14.427778</td>\n      <td>1.044681</td>\n    </tr>\n    <tr>\n      <th>2020-01-04</th>\n      <td>1.049138</td>\n      <td>32.154152</td>\n      <td>0.029897</td>\n      <td>0.011074</td>\n      <td>29.707692</td>\n      <td>16.439510</td>\n      <td>0.983929</td>\n    </tr>\n    <tr>\n      <th>2020-01-05</th>\n      <td>0.792941</td>\n      <td>22.521138</td>\n      <td>0.032683</td>\n      <td>0.009000</td>\n      <td>13.905263</td>\n      <td>10.883221</td>\n      <td>0.766667</td>\n    </tr>\n    <tr>\n      <th>...</th>\n      <td>...</td>\n      <td>...</td>\n      <td>...</td>\n      <td>...</td>\n      <td>...</td>\n      <td>...</td>\n      <td>...</td>\n    </tr>\n    <tr>\n      <th>2022-12-27</th>\n      <td>0.814925</td>\n      <td>25.993333</td>\n      <td>0.027554</td>\n      <td>NaN</td>\n      <td>20.254386</td>\n      <td>8.294737</td>\n      <td>0.761111</td>\n    </tr>\n    <tr>\n      <th>2022-12-28</th>\n      <td>0.409756</td>\n      <td>20.100000</td>\n      <td>0.030041</td>\n      <td>NaN</td>\n      <td>12.185185</td>\n      <td>7.471809</td>\n      <td>0.555769</td>\n    </tr>\n    <tr>\n      <th>2022-12-29</th>\n      <td>0.392063</td>\n      <td>17.505660</td>\n      <td>0.028821</td>\n      <td>0.004000</td>\n      <td>12.609091</td>\n      <td>6.344000</td>\n      <td>0.361765</td>\n    </tr>\n    <tr>\n      <th>2022-12-30</th>\n      <td>0.355224</td>\n      <td>15.582569</td>\n      <td>0.022930</td>\n      <td>NaN</td>\n      <td>13.725664</td>\n      <td>4.817881</td>\n      <td>1.661538</td>\n    </tr>\n    <tr>\n      <th>2022-12-31</th>\n      <td>0.294660</td>\n      <td>12.788538</td>\n      <td>0.023673</td>\n      <td>0.000649</td>\n      <td>8.779783</td>\n      <td>4.126791</td>\n      <td>0.123602</td>\n    </tr>\n  </tbody>\n</table>\n<p>1096 rows × 7 columns</p>\n</div>"
     },
     "execution_count": 1540,
     "metadata": {},
     "output_type": "execute_result"
    }
   ],
   "source": [
    "dataA = pd.concat([dataA2020, dataA2021, dataA2022])    # Combine the three datasets\n",
    "print(\"Combined dataset (Date set as index)\")\n",
    "dataA"
   ],
   "metadata": {
    "collapsed": false
   }
  },
  {
   "cell_type": "markdown",
   "source": [
    "## Column Renaming:\n",
    "This is where we shorten the name of each air contaminants to a corresponding concise name along with their corresponsing units."
   ],
   "metadata": {
    "collapsed": false
   }
  },
  {
   "cell_type": "code",
   "execution_count": 1541,
   "outputs": [
    {
     "name": "stdout",
     "output_type": "stream",
     "text": [
      "Columns renamed:\n"
     ]
    },
    {
     "data": {
      "text/plain": "            CO conc (ppm)  NO2 conc (ppb)  O3 conc (ppm)  Pb conc (ug/m3 SC)  \\\nDate                                                                           \n2020-01-01       0.636559       21.474615       0.030969            0.008000   \n2020-01-02       0.697647       26.564463       0.028227            0.013000   \n2020-01-03       0.845238       31.382500       0.026872            0.018990   \n2020-01-04       1.049138       32.154152       0.029897            0.011074   \n2020-01-05       0.792941       22.521138       0.032683            0.009000   \n\n            PM10 conc (ug/m3 SC)  PM2.5 conc (ug/m3 LC)  SO2 conc (ppb)  \nDate                                                                     \n2020-01-01             20.491525              15.203015        0.972549  \n2020-01-02             18.468085              12.619178        1.077083  \n2020-01-03             21.129032              14.427778        1.044681  \n2020-01-04             29.707692              16.439510        0.983929  \n2020-01-05             13.905263              10.883221        0.766667  ",
      "text/html": "<div>\n<style scoped>\n    .dataframe tbody tr th:only-of-type {\n        vertical-align: middle;\n    }\n\n    .dataframe tbody tr th {\n        vertical-align: top;\n    }\n\n    .dataframe thead th {\n        text-align: right;\n    }\n</style>\n<table border=\"1\" class=\"dataframe\">\n  <thead>\n    <tr style=\"text-align: right;\">\n      <th></th>\n      <th>CO conc (ppm)</th>\n      <th>NO2 conc (ppb)</th>\n      <th>O3 conc (ppm)</th>\n      <th>Pb conc (ug/m3 SC)</th>\n      <th>PM10 conc (ug/m3 SC)</th>\n      <th>PM2.5 conc (ug/m3 LC)</th>\n      <th>SO2 conc (ppb)</th>\n    </tr>\n    <tr>\n      <th>Date</th>\n      <th></th>\n      <th></th>\n      <th></th>\n      <th></th>\n      <th></th>\n      <th></th>\n      <th></th>\n    </tr>\n  </thead>\n  <tbody>\n    <tr>\n      <th>2020-01-01</th>\n      <td>0.636559</td>\n      <td>21.474615</td>\n      <td>0.030969</td>\n      <td>0.008000</td>\n      <td>20.491525</td>\n      <td>15.203015</td>\n      <td>0.972549</td>\n    </tr>\n    <tr>\n      <th>2020-01-02</th>\n      <td>0.697647</td>\n      <td>26.564463</td>\n      <td>0.028227</td>\n      <td>0.013000</td>\n      <td>18.468085</td>\n      <td>12.619178</td>\n      <td>1.077083</td>\n    </tr>\n    <tr>\n      <th>2020-01-03</th>\n      <td>0.845238</td>\n      <td>31.382500</td>\n      <td>0.026872</td>\n      <td>0.018990</td>\n      <td>21.129032</td>\n      <td>14.427778</td>\n      <td>1.044681</td>\n    </tr>\n    <tr>\n      <th>2020-01-04</th>\n      <td>1.049138</td>\n      <td>32.154152</td>\n      <td>0.029897</td>\n      <td>0.011074</td>\n      <td>29.707692</td>\n      <td>16.439510</td>\n      <td>0.983929</td>\n    </tr>\n    <tr>\n      <th>2020-01-05</th>\n      <td>0.792941</td>\n      <td>22.521138</td>\n      <td>0.032683</td>\n      <td>0.009000</td>\n      <td>13.905263</td>\n      <td>10.883221</td>\n      <td>0.766667</td>\n    </tr>\n  </tbody>\n</table>\n</div>"
     },
     "execution_count": 1541,
     "metadata": {},
     "output_type": "execute_result"
    }
   ],
   "source": [
    "new_names = ['CO conc (ppm)', 'NO2 conc (ppb)', 'O3 conc (ppm)',\n",
    "             'Pb conc (ug/m3 SC)', 'PM10 conc (ug/m3 SC)',\n",
    "             'PM2.5 conc (ug/m3 LC)', 'SO2 conc (ppb)']\n",
    "\n",
    "# Rename columns\n",
    "for i in range(len(new_names)):\n",
    "    dataA.rename(columns={dataA.columns[i]: new_names[i]}, inplace=True)\n",
    "\n",
    "print(\"Columns renamed:\")\n",
    "dataA.head()"
   ],
   "metadata": {
    "collapsed": false
   }
  },
  {
   "cell_type": "markdown",
   "source": [
    "### Checking null values in the dataset\n",
    "This is where we checked the null values on the dataset and decide what actions are needed to be done. In this case, imputing is the best course of action that we decided to do."
   ],
   "metadata": {
    "collapsed": false
   }
  },
  {
   "cell_type": "code",
   "execution_count": 1542,
   "outputs": [
    {
     "name": "stdout",
     "output_type": "stream",
     "text": [
      "A: Number of entries with null values: 359\n",
      "A: Number of entries: 1096\n"
     ]
    }
   ],
   "source": [
    "import seaborn as sns\n",
    "\n",
    "# Deciding whether to drop or impute null values, so we check how many null values there are.\n",
    "# Dataset A impute\n",
    "print(\"A: Number of entries with null values:\", dataA.isna().any(axis=1).sum())\n",
    "print(\"A: Number of entries:\", dataA.shape[0])"
   ],
   "metadata": {
    "collapsed": false
   }
  },
  {
   "cell_type": "markdown",
   "source": [
    "### Imputation\n",
    "This is where we begin using an imputer to fill in the null values that the original dataset contains."
   ],
   "metadata": {
    "collapsed": false
   }
  },
  {
   "cell_type": "code",
   "execution_count": 1543,
   "outputs": [
    {
     "name": "stdout",
     "output_type": "stream",
     "text": [
      "[IterativeImputer] Completing matrix with shape (1096, 7)\n",
      "[IterativeImputer] Change: 0.015027354506753809, scaled tolerance: 0.22167032967032968 \n",
      "[IterativeImputer] Early stopping criterion reached.\n",
      "After imputation:\n"
     ]
    },
    {
     "data": {
      "text/plain": "            CO conc (ppm)  NO2 conc (ppb)  O3 conc (ppm)  Pb conc (ug/m3 SC)  \\\nDate                                                                           \n2020-01-01       0.636559       21.474615       0.030969            0.008000   \n2020-01-02       0.697647       26.564463       0.028227            0.013000   \n2020-01-03       0.845238       31.382500       0.026872            0.018990   \n2020-01-04       1.049138       32.154152       0.029897            0.011074   \n2020-01-05       0.792941       22.521138       0.032683            0.009000   \n\n            PM10 conc (ug/m3 SC)  PM2.5 conc (ug/m3 LC)  SO2 conc (ppb)  \nDate                                                                     \n2020-01-01             20.491525              15.203015        0.972549  \n2020-01-02             18.468085              12.619178        1.077083  \n2020-01-03             21.129032              14.427778        1.044681  \n2020-01-04             29.707692              16.439510        0.983929  \n2020-01-05             13.905263              10.883221        0.766667  ",
      "text/html": "<div>\n<style scoped>\n    .dataframe tbody tr th:only-of-type {\n        vertical-align: middle;\n    }\n\n    .dataframe tbody tr th {\n        vertical-align: top;\n    }\n\n    .dataframe thead th {\n        text-align: right;\n    }\n</style>\n<table border=\"1\" class=\"dataframe\">\n  <thead>\n    <tr style=\"text-align: right;\">\n      <th></th>\n      <th>CO conc (ppm)</th>\n      <th>NO2 conc (ppb)</th>\n      <th>O3 conc (ppm)</th>\n      <th>Pb conc (ug/m3 SC)</th>\n      <th>PM10 conc (ug/m3 SC)</th>\n      <th>PM2.5 conc (ug/m3 LC)</th>\n      <th>SO2 conc (ppb)</th>\n    </tr>\n    <tr>\n      <th>Date</th>\n      <th></th>\n      <th></th>\n      <th></th>\n      <th></th>\n      <th></th>\n      <th></th>\n      <th></th>\n    </tr>\n  </thead>\n  <tbody>\n    <tr>\n      <th>2020-01-01</th>\n      <td>0.636559</td>\n      <td>21.474615</td>\n      <td>0.030969</td>\n      <td>0.008000</td>\n      <td>20.491525</td>\n      <td>15.203015</td>\n      <td>0.972549</td>\n    </tr>\n    <tr>\n      <th>2020-01-02</th>\n      <td>0.697647</td>\n      <td>26.564463</td>\n      <td>0.028227</td>\n      <td>0.013000</td>\n      <td>18.468085</td>\n      <td>12.619178</td>\n      <td>1.077083</td>\n    </tr>\n    <tr>\n      <th>2020-01-03</th>\n      <td>0.845238</td>\n      <td>31.382500</td>\n      <td>0.026872</td>\n      <td>0.018990</td>\n      <td>21.129032</td>\n      <td>14.427778</td>\n      <td>1.044681</td>\n    </tr>\n    <tr>\n      <th>2020-01-04</th>\n      <td>1.049138</td>\n      <td>32.154152</td>\n      <td>0.029897</td>\n      <td>0.011074</td>\n      <td>29.707692</td>\n      <td>16.439510</td>\n      <td>0.983929</td>\n    </tr>\n    <tr>\n      <th>2020-01-05</th>\n      <td>0.792941</td>\n      <td>22.521138</td>\n      <td>0.032683</td>\n      <td>0.009000</td>\n      <td>13.905263</td>\n      <td>10.883221</td>\n      <td>0.766667</td>\n    </tr>\n  </tbody>\n</table>\n</div>"
     },
     "execution_count": 1543,
     "metadata": {},
     "output_type": "execute_result"
    },
    {
     "name": "stdout",
     "output_type": "stream",
     "text": [
      "A: Number of entries with null values after impute: 0\n",
      "A: Number of entries: 1096\n"
     ]
    }
   ],
   "source": [
    "# These imports are important, imputer relies on them.\n",
    "\n",
    "from sklearn import preprocessing\n",
    "from sklearn.impute import SimpleImputer\n",
    "from sklearn.experimental import enable_iterative_imputer   # Important!\n",
    "from sklearn.impute import IterativeImputer     # default imputer is BayesianRidge\n",
    "\n",
    "from sklearn.linear_model import BayesianRidge\n",
    "\n",
    "# Other estimators (estimator = func()) to try\n",
    "from sklearn.linear_model import BayesianRidge\n",
    "from sklearn.tree import DecisionTreeRegressor\n",
    "from sklearn.ensemble import ExtraTreesRegressor\n",
    "from sklearn.ensemble import RandomForestRegressor\n",
    "from sklearn.neighbors import KNeighborsRegressor\n",
    "\n",
    "# Initialize imputer\n",
    "imp = IterativeImputer(max_iter=100, random_state=1, verbose=True, estimator=BayesianRidge())\n",
    "dataA[:] = imp.fit_transform(dataA)\n",
    "\n",
    "print(\"After imputation:\")\n",
    "dataA.head()\n",
    "print(\"A: Number of entries with null values after impute:\", dataA.isna().any(axis=1).sum())\n",
    "print(\"A: Number of entries:\", dataA.shape[0])"
   ],
   "metadata": {
    "collapsed": false
   }
  },
  {
   "cell_type": "markdown",
   "source": [
    "## Dataset B\n",
    "This is the second dataset that we are going to use alongside dataset A. This contains the COVID-19 data, specifically the date when it was recorded, the state that it came from, the total covid cases, confirmed covid cases, probable covid cases and the sum of the new cases that arose that day.\n",
    "\n",
    "In this dataset, we limit our data to the state of California (CA). Then, we used the date when the data was gathered as the index of the dataset. After that, we filtered dataset A with the date available in dataset B.\n",
    "\n",
    "Finally, we checked the null values of dataset B to determine whether we need to impute or not. In this case, we don't need to impute since it has clean data."
   ],
   "metadata": {
    "collapsed": false
   }
  },
  {
   "cell_type": "code",
   "execution_count": 1544,
   "outputs": [
    {
     "data": {
      "text/plain": "  submission_date state  tot_cases  conf_cases  sum_new_cases\n0      03/11/2021    KS     297229    241035.0            0.0\n1      12/01/2021    ND     163565    135705.0          809.0\n2      01/02/2022    AS         11         NaN            0.0\n3      11/22/2021    AL     841461    620483.0         1060.0\n4      05/30/2022    AK     251425         NaN            0.0",
      "text/html": "<div>\n<style scoped>\n    .dataframe tbody tr th:only-of-type {\n        vertical-align: middle;\n    }\n\n    .dataframe tbody tr th {\n        vertical-align: top;\n    }\n\n    .dataframe thead th {\n        text-align: right;\n    }\n</style>\n<table border=\"1\" class=\"dataframe\">\n  <thead>\n    <tr style=\"text-align: right;\">\n      <th></th>\n      <th>submission_date</th>\n      <th>state</th>\n      <th>tot_cases</th>\n      <th>conf_cases</th>\n      <th>sum_new_cases</th>\n    </tr>\n  </thead>\n  <tbody>\n    <tr>\n      <th>0</th>\n      <td>03/11/2021</td>\n      <td>KS</td>\n      <td>297229</td>\n      <td>241035.0</td>\n      <td>0.0</td>\n    </tr>\n    <tr>\n      <th>1</th>\n      <td>12/01/2021</td>\n      <td>ND</td>\n      <td>163565</td>\n      <td>135705.0</td>\n      <td>809.0</td>\n    </tr>\n    <tr>\n      <th>2</th>\n      <td>01/02/2022</td>\n      <td>AS</td>\n      <td>11</td>\n      <td>NaN</td>\n      <td>0.0</td>\n    </tr>\n    <tr>\n      <th>3</th>\n      <td>11/22/2021</td>\n      <td>AL</td>\n      <td>841461</td>\n      <td>620483.0</td>\n      <td>1060.0</td>\n    </tr>\n    <tr>\n      <th>4</th>\n      <td>05/30/2022</td>\n      <td>AK</td>\n      <td>251425</td>\n      <td>NaN</td>\n      <td>0.0</td>\n    </tr>\n  </tbody>\n</table>\n</div>"
     },
     "execution_count": 1544,
     "metadata": {},
     "output_type": "execute_result"
    },
    {
     "ename": "ValueError",
     "evalue": "Length mismatch: Expected axis has 5 elements, new values have 6 elements",
     "output_type": "error",
     "traceback": [
      "\u001B[1;31m---------------------------------------------------------------------------\u001B[0m",
      "\u001B[1;31mValueError\u001B[0m                                Traceback (most recent call last)",
      "\u001B[1;32m~\\AppData\\Local\\Temp\\ipykernel_15344\\2038865379.py\u001B[0m in \u001B[0;36m<module>\u001B[1;34m\u001B[0m\n\u001B[0;32m      6\u001B[0m \u001B[0mdataB\u001B[0m\u001B[1;33m.\u001B[0m\u001B[0mhead\u001B[0m\u001B[1;33m(\u001B[0m\u001B[1;33m)\u001B[0m\u001B[1;33m\u001B[0m\u001B[1;33m\u001B[0m\u001B[0m\n\u001B[0;32m      7\u001B[0m \u001B[1;33m\u001B[0m\u001B[0m\n\u001B[1;32m----> 8\u001B[1;33m \u001B[0mdataB\u001B[0m\u001B[1;33m.\u001B[0m\u001B[0mcolumns\u001B[0m \u001B[1;33m=\u001B[0m \u001B[1;33m[\u001B[0m\u001B[1;34m'Date'\u001B[0m\u001B[1;33m,\u001B[0m \u001B[1;34m'State'\u001B[0m\u001B[1;33m,\u001B[0m \u001B[1;34m'Total Cases'\u001B[0m\u001B[1;33m,\u001B[0m \u001B[1;34m'Confirmed Cases'\u001B[0m\u001B[1;33m,\u001B[0m \u001B[1;34m'Probable Cases'\u001B[0m\u001B[1;33m,\u001B[0m \u001B[1;34m'Sum New Cases'\u001B[0m\u001B[1;33m]\u001B[0m\u001B[1;33m\u001B[0m\u001B[1;33m\u001B[0m\u001B[0m\n\u001B[0m\u001B[0;32m      9\u001B[0m \u001B[1;33m\u001B[0m\u001B[0m\n\u001B[0;32m     10\u001B[0m \u001B[1;31m# Filter dataset B\u001B[0m\u001B[1;33m\u001B[0m\u001B[1;33m\u001B[0m\u001B[0m\n",
      "\u001B[1;32m~\\anaconda3\\lib\\site-packages\\pandas\\core\\generic.py\u001B[0m in \u001B[0;36m__setattr__\u001B[1;34m(self, name, value)\u001B[0m\n\u001B[0;32m   5586\u001B[0m         \u001B[1;32mtry\u001B[0m\u001B[1;33m:\u001B[0m\u001B[1;33m\u001B[0m\u001B[1;33m\u001B[0m\u001B[0m\n\u001B[0;32m   5587\u001B[0m             \u001B[0mobject\u001B[0m\u001B[1;33m.\u001B[0m\u001B[0m__getattribute__\u001B[0m\u001B[1;33m(\u001B[0m\u001B[0mself\u001B[0m\u001B[1;33m,\u001B[0m \u001B[0mname\u001B[0m\u001B[1;33m)\u001B[0m\u001B[1;33m\u001B[0m\u001B[1;33m\u001B[0m\u001B[0m\n\u001B[1;32m-> 5588\u001B[1;33m             \u001B[1;32mreturn\u001B[0m \u001B[0mobject\u001B[0m\u001B[1;33m.\u001B[0m\u001B[0m__setattr__\u001B[0m\u001B[1;33m(\u001B[0m\u001B[0mself\u001B[0m\u001B[1;33m,\u001B[0m \u001B[0mname\u001B[0m\u001B[1;33m,\u001B[0m \u001B[0mvalue\u001B[0m\u001B[1;33m)\u001B[0m\u001B[1;33m\u001B[0m\u001B[1;33m\u001B[0m\u001B[0m\n\u001B[0m\u001B[0;32m   5589\u001B[0m         \u001B[1;32mexcept\u001B[0m \u001B[0mAttributeError\u001B[0m\u001B[1;33m:\u001B[0m\u001B[1;33m\u001B[0m\u001B[1;33m\u001B[0m\u001B[0m\n\u001B[0;32m   5590\u001B[0m             \u001B[1;32mpass\u001B[0m\u001B[1;33m\u001B[0m\u001B[1;33m\u001B[0m\u001B[0m\n",
      "\u001B[1;32m~\\anaconda3\\lib\\site-packages\\pandas\\_libs\\properties.pyx\u001B[0m in \u001B[0;36mpandas._libs.properties.AxisProperty.__set__\u001B[1;34m()\u001B[0m\n",
      "\u001B[1;32m~\\anaconda3\\lib\\site-packages\\pandas\\core\\generic.py\u001B[0m in \u001B[0;36m_set_axis\u001B[1;34m(self, axis, labels)\u001B[0m\n\u001B[0;32m    767\u001B[0m     \u001B[1;32mdef\u001B[0m \u001B[0m_set_axis\u001B[0m\u001B[1;33m(\u001B[0m\u001B[0mself\u001B[0m\u001B[1;33m,\u001B[0m \u001B[0maxis\u001B[0m\u001B[1;33m:\u001B[0m \u001B[0mint\u001B[0m\u001B[1;33m,\u001B[0m \u001B[0mlabels\u001B[0m\u001B[1;33m:\u001B[0m \u001B[0mIndex\u001B[0m\u001B[1;33m)\u001B[0m \u001B[1;33m->\u001B[0m \u001B[1;32mNone\u001B[0m\u001B[1;33m:\u001B[0m\u001B[1;33m\u001B[0m\u001B[1;33m\u001B[0m\u001B[0m\n\u001B[0;32m    768\u001B[0m         \u001B[0mlabels\u001B[0m \u001B[1;33m=\u001B[0m \u001B[0mensure_index\u001B[0m\u001B[1;33m(\u001B[0m\u001B[0mlabels\u001B[0m\u001B[1;33m)\u001B[0m\u001B[1;33m\u001B[0m\u001B[1;33m\u001B[0m\u001B[0m\n\u001B[1;32m--> 769\u001B[1;33m         \u001B[0mself\u001B[0m\u001B[1;33m.\u001B[0m\u001B[0m_mgr\u001B[0m\u001B[1;33m.\u001B[0m\u001B[0mset_axis\u001B[0m\u001B[1;33m(\u001B[0m\u001B[0maxis\u001B[0m\u001B[1;33m,\u001B[0m \u001B[0mlabels\u001B[0m\u001B[1;33m)\u001B[0m\u001B[1;33m\u001B[0m\u001B[1;33m\u001B[0m\u001B[0m\n\u001B[0m\u001B[0;32m    770\u001B[0m         \u001B[0mself\u001B[0m\u001B[1;33m.\u001B[0m\u001B[0m_clear_item_cache\u001B[0m\u001B[1;33m(\u001B[0m\u001B[1;33m)\u001B[0m\u001B[1;33m\u001B[0m\u001B[1;33m\u001B[0m\u001B[0m\n\u001B[0;32m    771\u001B[0m \u001B[1;33m\u001B[0m\u001B[0m\n",
      "\u001B[1;32m~\\anaconda3\\lib\\site-packages\\pandas\\core\\internals\\managers.py\u001B[0m in \u001B[0;36mset_axis\u001B[1;34m(self, axis, new_labels)\u001B[0m\n\u001B[0;32m    212\u001B[0m     \u001B[1;32mdef\u001B[0m \u001B[0mset_axis\u001B[0m\u001B[1;33m(\u001B[0m\u001B[0mself\u001B[0m\u001B[1;33m,\u001B[0m \u001B[0maxis\u001B[0m\u001B[1;33m:\u001B[0m \u001B[0mint\u001B[0m\u001B[1;33m,\u001B[0m \u001B[0mnew_labels\u001B[0m\u001B[1;33m:\u001B[0m \u001B[0mIndex\u001B[0m\u001B[1;33m)\u001B[0m \u001B[1;33m->\u001B[0m \u001B[1;32mNone\u001B[0m\u001B[1;33m:\u001B[0m\u001B[1;33m\u001B[0m\u001B[1;33m\u001B[0m\u001B[0m\n\u001B[0;32m    213\u001B[0m         \u001B[1;31m# Caller is responsible for ensuring we have an Index object.\u001B[0m\u001B[1;33m\u001B[0m\u001B[1;33m\u001B[0m\u001B[0m\n\u001B[1;32m--> 214\u001B[1;33m         \u001B[0mself\u001B[0m\u001B[1;33m.\u001B[0m\u001B[0m_validate_set_axis\u001B[0m\u001B[1;33m(\u001B[0m\u001B[0maxis\u001B[0m\u001B[1;33m,\u001B[0m \u001B[0mnew_labels\u001B[0m\u001B[1;33m)\u001B[0m\u001B[1;33m\u001B[0m\u001B[1;33m\u001B[0m\u001B[0m\n\u001B[0m\u001B[0;32m    215\u001B[0m         \u001B[0mself\u001B[0m\u001B[1;33m.\u001B[0m\u001B[0maxes\u001B[0m\u001B[1;33m[\u001B[0m\u001B[0maxis\u001B[0m\u001B[1;33m]\u001B[0m \u001B[1;33m=\u001B[0m \u001B[0mnew_labels\u001B[0m\u001B[1;33m\u001B[0m\u001B[1;33m\u001B[0m\u001B[0m\n\u001B[0;32m    216\u001B[0m \u001B[1;33m\u001B[0m\u001B[0m\n",
      "\u001B[1;32m~\\anaconda3\\lib\\site-packages\\pandas\\core\\internals\\base.py\u001B[0m in \u001B[0;36m_validate_set_axis\u001B[1;34m(self, axis, new_labels)\u001B[0m\n\u001B[0;32m     67\u001B[0m \u001B[1;33m\u001B[0m\u001B[0m\n\u001B[0;32m     68\u001B[0m         \u001B[1;32melif\u001B[0m \u001B[0mnew_len\u001B[0m \u001B[1;33m!=\u001B[0m \u001B[0mold_len\u001B[0m\u001B[1;33m:\u001B[0m\u001B[1;33m\u001B[0m\u001B[1;33m\u001B[0m\u001B[0m\n\u001B[1;32m---> 69\u001B[1;33m             raise ValueError(\n\u001B[0m\u001B[0;32m     70\u001B[0m                 \u001B[1;34mf\"Length mismatch: Expected axis has {old_len} elements, new \"\u001B[0m\u001B[1;33m\u001B[0m\u001B[1;33m\u001B[0m\u001B[0m\n\u001B[0;32m     71\u001B[0m                 \u001B[1;34mf\"values have {new_len} elements\"\u001B[0m\u001B[1;33m\u001B[0m\u001B[1;33m\u001B[0m\u001B[0m\n",
      "\u001B[1;31mValueError\u001B[0m: Length mismatch: Expected axis has 5 elements, new values have 6 elements"
     ]
    }
   ],
   "source": [
    "colidx = [0,1,2,3,5,6]     # column indexes to use (based on preemptively looking at dataB)\n",
    "dataB = pd.read_csv('datasets/us_covid_cases_and_deaths_by_state.csv', parse_dates=True, usecols=colidx)\n",
    "sum_new_cases = dataB['new_case'] + dataB['pnew_case']\n",
    "dataB.drop(['new_case', 'pnew_case'], axis=1, inplace=True)\n",
    "dataB['sum_new_cases'] = sum_new_cases\n",
    "dataB.head()\n",
    "\n",
    "dataB.columns = ['Date', 'State', 'Total Cases', 'Confirmed Cases', 'Probable Cases', 'Sum New Cases']\n",
    "\n",
    "# Filter dataset B\n",
    "dataB = dataB[dataB['State'] == 'CA']\n",
    "dataB.head()\n",
    "\n",
    "# Use Date as index, also drop the State\n",
    "print(\"Dateset B finalized\")\n",
    "dataB['Date'] = pd.to_datetime(dataB['Date'])\n",
    "dataB.set_index('Date', inplace=True)\n",
    "dataB.sort_index(inplace=True)\n",
    "dataB.drop('State', axis=1, inplace=True)\n",
    "dataB.info()\n",
    "dataB.head()\n",
    "\n",
    "# Filter dataA with temporal restriction given by dataB\n",
    "dataA = dataA[(dataA.index >= dataB.index.min()) &\n",
    "              (dataA.index <= dataB.index.max())]\n",
    "\n",
    "print(\"Filtered Dataset A\")\n",
    "dataA.head()\n",
    "\n",
    "# With the printouts below, we find that there's no need to impute.\n",
    "print(\"B: Number of entries with null values:\", dataB.isna().any(axis=1).sum())\n",
    "print(\"B: Number of entries:\", dataB.shape[0])"
   ],
   "metadata": {
    "collapsed": false
   }
  },
  {
   "cell_type": "markdown",
   "source": [
    "## Merging of Main Datasets (data = dataA + dataB)\n",
    "This is where we merged the air quality dataset and the COVID-19 dataset into one dataframe called 'data'."
   ],
   "metadata": {
    "collapsed": false
   }
  },
  {
   "cell_type": "code",
   "execution_count": null,
   "outputs": [],
   "source": [
    "# Merging the two datasets (dataA & dataB)\n",
    "data = dataA.merge(dataB, left_index=True, right_index=True)\n",
    "data"
   ],
   "metadata": {
    "collapsed": false
   }
  },
  {
   "cell_type": "markdown",
   "source": [
    "## Pruning\n",
    "This is where we pruned each column of the dataset in order to reach maximum efficiency. We also removed some columns that we determined to be skewing the prediction in the wrong way.\n",
    "\n",
    "This also shows a scatter plot of each feature matrix column (except for Total Cases) with the target matrix (Sum New Cases)."
   ],
   "metadata": {
    "collapsed": false
   }
  },
  {
   "cell_type": "code",
   "execution_count": null,
   "outputs": [],
   "source": [
    "import matplotlib.pyplot as plt\n",
    "%matplotlib inline\n",
    "\n",
    "# GENERATE SCATTERPLOTS FOR EDUCATED GUESSES OF WHAT COLUMNS TO USE\n",
    "# DYNAMIC PRUNING\n",
    "# IDEA: We focus on ambient level of pollutants and ignore sudden spikes in COVID-19 case data (i.e. data dumps).\n",
    "# We also remove Dates where there are no new infections as their volume skews the data alot.\n",
    "data = data[(data['Sum New Cases'] <= 73000) & (data['Sum New Cases'] > 1)]\n",
    "data = data[(data['Total Cases'] > 0)]\n",
    "data = data[(data['Confirmed Cases'] > 0)]\n",
    "data = data[data['CO conc (ppm)'] <= 1.5]\n",
    "# data = data[data['NO2 conc (ppb)'] > 1]\n",
    "data = data[data['O3 conc (ppm)'] > 0.035]\n",
    "data = data[data['Pb conc (ug/m3 SC)'] < 0.5]\n",
    "data = data[data['PM10 conc (ug/m3 SC)'] < 100]\n",
    "data = data[data['PM2.5 conc (ug/m3 LC)'] < 15]\n",
    "data = data[data['SO2 conc (ppb)'] < 2.0]\n",
    "\n",
    "# DROP COLUMNS HERE\n",
    "data.drop(columns=['PM10 conc (ug/m3 SC)'], axis=1, inplace=True)\n",
    "# data = data[['PM10 conc (ug/m3 SC)', 'Sum New Cases']]\n",
    "\n",
    "for label in data.columns:\n",
    "    if label in ['Sum New Cases', 'Total Cases', 'Confirmed Cases']: continue\n",
    "    sns.set_style('dark')\n",
    "\n",
    "    sns.relplot(x=label, y='Sum New Cases', data=data, height=3.8, aspect=1.8, kind='scatter')\n",
    "\n",
    "print(\"Number of entries remaining after pruning:\", data.shape[0])"
   ],
   "metadata": {
    "collapsed": false
   }
  },
  {
   "cell_type": "markdown",
   "source": [
    "### Regression Plot\n",
    "This contains regression plots of each column in the feature matrix (except for Total Cases) with the target matrix (Sum New Cases)."
   ],
   "metadata": {
    "collapsed": false
   }
  },
  {
   "cell_type": "code",
   "execution_count": null,
   "outputs": [],
   "source": [
    "fig, axs = plt.subplots(nrows=len(data.columns), ncols=1, figsize=(16,64))\n",
    "\n",
    "i = 0\n",
    "for label in data.columns:\n",
    "    if label in [\"Sum New Cases\", \"Total Cases\", \"Confirmed Cases\"]: continue\n",
    "    sns.regplot(x=label, y='Sum New Cases', data=data, ci=95, scatter_kws={'s':100, 'facecolor':'red'}, ax=axs[i])\n",
    "    i += 1"
   ],
   "metadata": {
    "collapsed": false
   }
  },
  {
   "cell_type": "markdown",
   "source": [
    "## Linear Regression\n",
    "Here we initially started with the initialization of the StandardScaler. Then, we grouped the component of the dataset depending on their classification, whether they are the Target Vector (Sum New Cases) or the Feature Matrix (remaining columns in the dataframe).\n",
    "\n",
    "Now that we have our x and y, we utilized train_test_split to separate the train data from the test data. Then finally, we started our Linear Regression with the variable 'regressor'."
   ],
   "metadata": {
    "collapsed": false
   }
  },
  {
   "cell_type": "code",
   "execution_count": null,
   "outputs": [],
   "source": [],
   "metadata": {
    "collapsed": false
   }
  },
  {
   "cell_type": "code",
   "execution_count": null,
   "outputs": [],
   "source": [
    "# Linear Regression\n",
    "# PREPARE FEATURES AND TARGET DATA (normalize first)\n",
    "from sklearn.preprocessing import StandardScaler\n",
    "from sklearn.preprocessing import normalize\n",
    "scaler = StandardScaler()\n",
    "data\n",
    "X = data.iloc[:,0:-1] # feature matrix\n",
    "X = scaler.fit_transform(X)\n",
    "y = data.iloc[:,-1] # target vector\n",
    "\n",
    "# PREPARE TRAIN AND TEST DATA\n",
    "# NOTE: random_state = 1\n",
    "from sklearn.model_selection import train_test_split\n",
    "X_train, X_test, y_train, y_test = train_test_split(X, y, test_size=0.20, random_state=1)\n",
    "\n",
    "from sklearn.linear_model import LinearRegression\n",
    "from sklearn.linear_model import LogisticRegression\n",
    "from sklearn.linear_model import Ridge\n",
    "import sklearn.linear_model as sklm\n",
    "regressor = LinearRegression()\n",
    "regressor.fit(X_train, y_train)\n",
    "\n",
    "print(\"Coefficients:\", regressor.coef_)\n",
    "print(\"Intercept:\", regressor.intercept_)"
   ],
   "metadata": {
    "collapsed": false
   }
  },
  {
   "cell_type": "markdown",
   "source": [
    "### Predictions\n",
    "This is where we use linear regression to predict values given the test data."
   ],
   "metadata": {
    "collapsed": false
   }
  },
  {
   "cell_type": "code",
   "execution_count": null,
   "outputs": [],
   "source": [
    "y_pred = regressor.predict(X_test)\n",
    "y_pred"
   ],
   "metadata": {
    "collapsed": false
   }
  },
  {
   "cell_type": "markdown",
   "source": [
    "## Comparison of Actual Data with Predicted Data\n",
    "This is just a side by side comparison of the values of the Actual Data compared with the Predicted Data."
   ],
   "metadata": {
    "collapsed": false
   }
  },
  {
   "cell_type": "code",
   "execution_count": null,
   "outputs": [],
   "source": [
    "comparison_df = pd.DataFrame({\"Actual\":y_test,\"Predicted\":y_pred})\n",
    "comparison_df"
   ],
   "metadata": {
    "collapsed": false
   }
  },
  {
   "cell_type": "markdown",
   "source": [
    "## Residuals\n",
    "This contains the difference between the actual value of the data with the predicted data value."
   ],
   "metadata": {
    "collapsed": false
   }
  },
  {
   "cell_type": "code",
   "execution_count": null,
   "outputs": [],
   "source": [
    "residuals = y_test - y_pred\n",
    "residuals"
   ],
   "metadata": {
    "collapsed": false
   }
  },
  {
   "cell_type": "markdown",
   "source": [
    "### Plotting of Actual Data with Predicted Data\n",
    "This is a simple scatter plot of the Actual Data with the Predicted Data."
   ],
   "metadata": {
    "collapsed": false
   }
  },
  {
   "cell_type": "code",
   "execution_count": null,
   "outputs": [],
   "source": [
    "sns.scatterplot(x=y_test, y = y_pred, s=140)\n",
    "plt.xlabel('y_test data')\n",
    "plt.ylabel('Predictions')"
   ],
   "metadata": {
    "collapsed": false
   }
  },
  {
   "cell_type": "markdown",
   "source": [
    "## Metrics Log\n",
    "This contains the metric values output of the model when used on the merged dataset."
   ],
   "metadata": {
    "collapsed": false
   }
  },
  {
   "cell_type": "code",
   "execution_count": null,
   "outputs": [],
   "source": [
    "f = open(\"log.out\", \"a\")\n",
    "\n",
    "from sklearn.metrics import mean_absolute_error\n",
    "print('MAE:', mean_absolute_error(y_test,y_pred))\n",
    "f.write('MAE: {}\\n'.format(mean_absolute_error(y_test,y_pred)))\n",
    "\n",
    "from sklearn.metrics import mean_squared_error\n",
    "print(\"MSE\",mean_squared_error(y_test,y_pred))\n",
    "f.write('MSE: {}\\n'.format(mean_squared_error(y_test,y_pred)))\n",
    "\n",
    "import numpy as np\n",
    "print(\"RMSE\",np.sqrt(mean_squared_error(y_test,y_pred)))\n",
    "f.write('RMSE: {}\\n'.format(np.sqrt(mean_squared_error(y_test,y_pred))))\n",
    "\n",
    "from sklearn.metrics import r2_score\n",
    "r2 = r2_score(y_test,y_pred)\n",
    "print(\"R2 Score:\", r2)      # We use this as our main metric\n",
    "f.write('R2 Score: {}\\n'.format(r2))\n",
    "\n",
    "f.write('---\\n')"
   ],
   "metadata": {
    "collapsed": false
   }
  },
  {
   "cell_type": "code",
   "execution_count": null,
   "outputs": [],
   "source": [
    "data = data.reset_index()\n",
    "NewData = data\n",
    "NewData"
   ],
   "metadata": {
    "collapsed": false
   }
  },
  {
   "cell_type": "code",
   "execution_count": null,
   "outputs": [],
   "source": [
    "# For CO conc (ppm) & Sum New Cases\n",
    "## Perform regression modeling\n",
    "from sklearn.linear_model import LinearRegression\n",
    "from sklearn.metrics import r2_score, mean_squared_error\n",
    "\n",
    "import statsmodels.api as sm\n",
    "import calendar\n",
    "\n",
    "# Convert datetime to int\n",
    "#x = data['Date'].values.astype(int) / 10**9  # Convert to seconds (UNIX epoch start)\n",
    "#x = x.reshape(-1, 1)\n",
    "\n",
    "\n",
    "x = NewData['CO conc (ppm)']\n",
    "y = NewData['Sum New Cases']\n",
    "\n",
    "#--------------------------------------------------------------\n",
    "# Linear regression model\n",
    "#--------------------------------------------------------------\n",
    "# Stastical approach\n",
    "x_lms = sm.add_constant(x)\n",
    "linear_model_stat = sm.OLS(y, x_lms)\n",
    "lms_results = linear_model_stat.fit()\n",
    "p_values = lms_results.pvalues[1:]\n",
    "\n",
    "# Machine learning approach (no p-values)\n",
    "linear_model = LinearRegression()\n",
    "linear_model.fit(x_lms, y)\n",
    "y_linear_pred = linear_model.predict(x_lms)\n",
    "\n",
    "# Calculate R2 and RMSE for linear regression model\n",
    "linear_r2 = r2_score(y, y_linear_pred)\n",
    "linear_rmse = np.sqrt(mean_squared_error(y, y_linear_pred))\n",
    "\n",
    "print(\"Model Evaluation\")\n",
    "print(\"\\nLinear Regression: RMSE=%.2f, R2=%.2f\" % (linear_rmse, linear_r2))\n",
    "for i, p_value in enumerate(p_values.index):\n",
    "  print(f'P({p_value}): {p_values[i]}')\n",
    "\n",
    "if any(p_values <= 0.05):\n",
    "  print(\"There is a significant relationship between the predictor and the response\\n\")\n",
    "else:\n",
    "  print(\"There is no significant relationship between the predictor and the response\\n\")\n",
    "\n",
    "\n",
    "# Plot the model\n",
    "import plotly.graph_objects as go\n",
    "\n",
    "xtt = NewData['CO conc (ppm)']#.dt.strftime('%Y-%m-%d')\n",
    "scatter_actual = go.Scatter(x=xtt, y=y, mode='markers', name='Actual', marker=dict(color='blue', opacity=0.3))\n",
    "\n",
    "line_regression = go.Scatter(x=xtt, y=y_linear_pred, mode='lines', name='LR', line=dict(color='red', dash='dash'))\n",
    "\n",
    "data = [scatter_actual, line_regression]\n",
    "\n",
    "layout = go.Layout(xaxis=dict(title='CO conc (ppm)'),\n",
    "                   yaxis=dict(title='Sum New Cases'),\n",
    "                   title='Linear Regression Model for COVID-19 New Cases & CO conc (ppm)',\n",
    "                   showlegend=True,\n",
    "                   height=600)\n",
    "\n",
    "fig = go.Figure(data=data, layout=layout)\n",
    "fig.show()"
   ],
   "metadata": {
    "collapsed": false
   }
  },
  {
   "cell_type": "code",
   "execution_count": null,
   "outputs": [],
   "source": [
    "# For NO2 conc (ppb) & Sum New Cases\n",
    "## Perform regression modeling\n",
    "from sklearn.linear_model import LinearRegression\n",
    "from sklearn.metrics import r2_score, mean_squared_error\n",
    "\n",
    "import statsmodels.api as sm\n",
    "import calendar\n",
    "\n",
    "# Convert datetime to int\n",
    "#x = data['Date'].values.astype(int) / 10**9  # Convert to seconds (UNIX epoch start)\n",
    "#x = x.reshape(-1, 1)\n",
    "\n",
    "\n",
    "x = NewData['NO2 conc (ppb)']\n",
    "y = NewData['Sum New Cases']\n",
    "\n",
    "#--------------------------------------------------------------\n",
    "# Linear regression model\n",
    "#--------------------------------------------------------------\n",
    "# Stastical approach\n",
    "x_lms = sm.add_constant(x)\n",
    "linear_model_stat = sm.OLS(y, x_lms)\n",
    "lms_results = linear_model_stat.fit()\n",
    "p_values = lms_results.pvalues[1:]\n",
    "\n",
    "# Machine learning approach (no p-values)\n",
    "linear_model = LinearRegression()\n",
    "linear_model.fit(x_lms, y)\n",
    "y_linear_pred = linear_model.predict(x_lms)\n",
    "\n",
    "# Calculate R2 and RMSE for linear regression model\n",
    "linear_r2 = r2_score(y, y_linear_pred)\n",
    "linear_rmse = np.sqrt(mean_squared_error(y, y_linear_pred))\n",
    "\n",
    "print(\"Model Evaluation\")\n",
    "print(\"\\nLinear Regression: RMSE=%.2f, R2=%.2f\" % (linear_rmse, linear_r2))\n",
    "for i, p_value in enumerate(p_values.index):\n",
    "  print(f'P({p_value}): {p_values[i]}')\n",
    "\n",
    "if any(p_values <= 0.05):\n",
    "  print(\"There is a significant relationship between the predictor and the response\\n\")\n",
    "else:\n",
    "  print(\"There is no significant relationship between the predictor and the response\\n\")\n",
    "\n",
    "\n",
    "# Plot the model\n",
    "import plotly.graph_objects as go\n",
    "\n",
    "xtt = NewData['NO2 conc (ppb)']#.dt.strftime('%Y-%m-%d')\n",
    "scatter_actual = go.Scatter(x=xtt, y=y, mode='markers', name='Actual', marker=dict(color='blue', opacity=0.3))\n",
    "\n",
    "line_regression = go.Scatter(x=xtt, y=y_linear_pred, mode='lines', name='LR', line=dict(color='red', dash='dash'))\n",
    "\n",
    "data = [scatter_actual, line_regression]\n",
    "\n",
    "layout = go.Layout(xaxis=dict(title='NO2 conc (ppb)'),\n",
    "                   yaxis=dict(title='Sum New Cases'),\n",
    "                   title='Linear Regression Model for COVID-19 New Cases & NO2 conc (ppb)',\n",
    "                   showlegend=True,\n",
    "                   height=600)\n",
    "\n",
    "fig = go.Figure(data=data, layout=layout)\n",
    "fig.show()"
   ],
   "metadata": {
    "collapsed": false
   }
  },
  {
   "cell_type": "code",
   "execution_count": null,
   "metadata": {},
   "outputs": [],
   "source": [
    "# For O3 conc (ppm) & Sum New Cases\n",
    "## Perform regression modeling\n",
    "from sklearn.linear_model import LinearRegression\n",
    "from sklearn.metrics import r2_score, mean_squared_error\n",
    "\n",
    "import statsmodels.api as sm\n",
    "import calendar\n",
    "\n",
    "# Convert datetime to int\n",
    "#x = data['Date'].values.astype(int) / 10**9  # Convert to seconds (UNIX epoch start)\n",
    "#x = x.reshape(-1, 1)\n",
    "\n",
    "\n",
    "x = NewData['O3 conc (ppm)']\n",
    "y = NewData['Sum New Cases']\n",
    "\n",
    "#--------------------------------------------------------------\n",
    "# Linear regression model\n",
    "#--------------------------------------------------------------\n",
    "# Stastical approach\n",
    "x_lms = sm.add_constant(x)\n",
    "linear_model_stat = sm.OLS(y, x_lms)\n",
    "lms_results = linear_model_stat.fit()\n",
    "p_values = lms_results.pvalues[1:]\n",
    "\n",
    "# Machine learning approach (no p-values)\n",
    "linear_model = LinearRegression()\n",
    "linear_model.fit(x_lms, y)\n",
    "y_linear_pred = linear_model.predict(x_lms)\n",
    "\n",
    "# Calculate R2 and RMSE for linear regression model\n",
    "linear_r2 = r2_score(y, y_linear_pred)\n",
    "linear_rmse = np.sqrt(mean_squared_error(y, y_linear_pred))\n",
    "\n",
    "print(\"Model Evaluation\")\n",
    "print(\"\\nLinear Regression: RMSE=%.2f, R2=%.2f\" % (linear_rmse, linear_r2))\n",
    "for i, p_value in enumerate(p_values.index):\n",
    "  print(f'P({p_value}): {p_values[i]}')\n",
    "\n",
    "if any(p_values <= 0.05):\n",
    "  print(\"There is a significant relationship between the predictor and the response\\n\")\n",
    "else:\n",
    "  print(\"There is no significant relationship between the predictor and the response\\n\")\n",
    "\n",
    "\n",
    "# Plot the model\n",
    "import plotly.graph_objects as go\n",
    "\n",
    "xtt = NewData['O3 conc (ppm)']#.dt.strftime('%Y-%m-%d')\n",
    "scatter_actual = go.Scatter(x=xtt, y=y, mode='markers', name='Actual', marker=dict(color='blue', opacity=0.3))\n",
    "\n",
    "line_regression = go.Scatter(x=xtt, y=y_linear_pred, mode='lines', name='LR', line=dict(color='red', dash='dash'))\n",
    "\n",
    "data = [scatter_actual, line_regression]\n",
    "\n",
    "layout = go.Layout(xaxis=dict(title='O3 conc (ppm)'),\n",
    "                   yaxis=dict(title='Sum New Cases'),\n",
    "                   title='Linear Regression Model for COVID-19 New Cases & O3 conc (ppm)',\n",
    "                   showlegend=True,\n",
    "                   height=600)\n",
    "\n",
    "fig = go.Figure(data=data, layout=layout)\n",
    "fig.show()"
   ]
  }
 ],
 "metadata": {
  "kernelspec": {
   "display_name": "Python 3 (ipykernel)",
   "language": "python",
   "name": "python3"
  },
  "language_info": {
   "codemirror_mode": {
    "name": "ipython",
    "version": 3
   },
   "file_extension": ".py",
   "mimetype": "text/x-python",
   "name": "python",
   "nbconvert_exporter": "python",
   "pygments_lexer": "ipython3",
   "version": "3.10.9"
  }
 },
 "nbformat": 4,
 "nbformat_minor": 1
}
