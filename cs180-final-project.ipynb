{
 "cells": [
  {
   "cell_type": "markdown",
   "source": [
    "# Air Quality and COVID-19 Infection Rates\n",
    "For this project, our goal is to investigate a possible relationship between Air Quality and COVID-19 Infection Rates. To that end, we will merge an Air Quality dataset with a COVID-19 dataset, train a linear regression model on the merged dataset, and perform predictions to test the accuracy of our model.\n",
    "\n",
    "Some thoughts about the web app:\n",
    "- Perhaps an app where Air Quality features and COVID-19 cases are the independent variables while COVID-19 infection rate (%) is the dependent variable.\n",
    "- Sliders and input fields would be used for the independent variables.\n",
    "\n",
    "**Important:** Because this is an exploratory project, we are not absolutely certain that there exists a significant relationship between Air Quality and COVID-19 datasets. Furthermore, our results, significant or not, can only lend support to hypotheses surrounding Air Quality and COVID-19.\n",
    "\n",
    "For full project motivations, please see `CS180_G16_ProjectProposal.pdf`."
   ],
   "metadata": {
    "collapsed": false
   }
  },
  {
   "cell_type": "code",
   "execution_count": 16,
   "outputs": [
    {
     "name": "stdout",
     "output_type": "stream",
     "text": [
      "Dataset A: WHO Air Quality (2023)\n",
      "Dataset A Contents\n"
     ]
    },
    {
     "data": {
      "text/plain": "  who_region iso3 country_name       city  year                     version  \\\n0     3_Sear  IND        India    Chennai  2018                version 2022   \n1     3_Sear  IND        India    Solapur  2016  version 2022, version 2018   \n2     3_Sear  IND        India    Chennai  2019                version 2022   \n3     3_Sear  IND        India  Hyderabad  2019                version 2022   \n4     3_Sear  IND        India       Pune  2017                version 2022   \n\n   pm10_concentration  pm25_concentration  no2_concentration  pm10_tempcov  \\\n0                 NaN                30.0                NaN           NaN   \n1                 NaN                39.0                NaN           NaN   \n2                 NaN                39.0                NaN           NaN   \n3                 NaN                42.0                NaN           NaN   \n4                 NaN                43.0                NaN           NaN   \n\n   pm25_tempcov  no2_tempcov type_of_stations  \\\n0          91.0          NaN              NaN   \n1          99.0          NaN              NaN   \n2          85.0          NaN              NaN   \n3          87.0          NaN              NaN   \n4           NaN          NaN              NaN   \n\n                                           reference  \\\n0  U.S. Department of State, United States Enviro...   \n1  Central Pollution Control Board India, Environ...   \n2  U.S. Department of State, United States Enviro...   \n3  U.S. Department of State, United States Enviro...   \n4  Central Pollution Control Board India, Environ...   \n\n                                            web_link  population  \\\n0  https://www.airnow.gov/index.cfm?action=airnow...   9890427.0   \n1                                                NaN    985568.0   \n2  [[[\"EPA AirNow DOS\",\"http://airnow.gov/index.c...   9890427.0   \n3  [[[\"EPA AirNow DOS\",\"http://airnow.gov/index.c...   8943523.0   \n4                      http://www.cpcb.gov.in/CAAQM/   5727530.0   \n\n   population_source   latitude  longitude  who_ms  \n0                NaN  13.087840  80.278470       1  \n1                NaN  17.659919  75.906391       1  \n2                NaN  13.087840  80.278470       1  \n3                NaN  17.384050  78.456360       1  \n4                NaN  18.505320  73.823839       1  ",
      "text/html": "<div>\n<style scoped>\n    .dataframe tbody tr th:only-of-type {\n        vertical-align: middle;\n    }\n\n    .dataframe tbody tr th {\n        vertical-align: top;\n    }\n\n    .dataframe thead th {\n        text-align: right;\n    }\n</style>\n<table border=\"1\" class=\"dataframe\">\n  <thead>\n    <tr style=\"text-align: right;\">\n      <th></th>\n      <th>who_region</th>\n      <th>iso3</th>\n      <th>country_name</th>\n      <th>city</th>\n      <th>year</th>\n      <th>version</th>\n      <th>pm10_concentration</th>\n      <th>pm25_concentration</th>\n      <th>no2_concentration</th>\n      <th>pm10_tempcov</th>\n      <th>pm25_tempcov</th>\n      <th>no2_tempcov</th>\n      <th>type_of_stations</th>\n      <th>reference</th>\n      <th>web_link</th>\n      <th>population</th>\n      <th>population_source</th>\n      <th>latitude</th>\n      <th>longitude</th>\n      <th>who_ms</th>\n    </tr>\n  </thead>\n  <tbody>\n    <tr>\n      <th>0</th>\n      <td>3_Sear</td>\n      <td>IND</td>\n      <td>India</td>\n      <td>Chennai</td>\n      <td>2018</td>\n      <td>version 2022</td>\n      <td>NaN</td>\n      <td>30.0</td>\n      <td>NaN</td>\n      <td>NaN</td>\n      <td>91.0</td>\n      <td>NaN</td>\n      <td>NaN</td>\n      <td>U.S. Department of State, United States Enviro...</td>\n      <td>https://www.airnow.gov/index.cfm?action=airnow...</td>\n      <td>9890427.0</td>\n      <td>NaN</td>\n      <td>13.087840</td>\n      <td>80.278470</td>\n      <td>1</td>\n    </tr>\n    <tr>\n      <th>1</th>\n      <td>3_Sear</td>\n      <td>IND</td>\n      <td>India</td>\n      <td>Solapur</td>\n      <td>2016</td>\n      <td>version 2022, version 2018</td>\n      <td>NaN</td>\n      <td>39.0</td>\n      <td>NaN</td>\n      <td>NaN</td>\n      <td>99.0</td>\n      <td>NaN</td>\n      <td>NaN</td>\n      <td>Central Pollution Control Board India, Environ...</td>\n      <td>NaN</td>\n      <td>985568.0</td>\n      <td>NaN</td>\n      <td>17.659919</td>\n      <td>75.906391</td>\n      <td>1</td>\n    </tr>\n    <tr>\n      <th>2</th>\n      <td>3_Sear</td>\n      <td>IND</td>\n      <td>India</td>\n      <td>Chennai</td>\n      <td>2019</td>\n      <td>version 2022</td>\n      <td>NaN</td>\n      <td>39.0</td>\n      <td>NaN</td>\n      <td>NaN</td>\n      <td>85.0</td>\n      <td>NaN</td>\n      <td>NaN</td>\n      <td>U.S. Department of State, United States Enviro...</td>\n      <td>[[[\"EPA AirNow DOS\",\"http://airnow.gov/index.c...</td>\n      <td>9890427.0</td>\n      <td>NaN</td>\n      <td>13.087840</td>\n      <td>80.278470</td>\n      <td>1</td>\n    </tr>\n    <tr>\n      <th>3</th>\n      <td>3_Sear</td>\n      <td>IND</td>\n      <td>India</td>\n      <td>Hyderabad</td>\n      <td>2019</td>\n      <td>version 2022</td>\n      <td>NaN</td>\n      <td>42.0</td>\n      <td>NaN</td>\n      <td>NaN</td>\n      <td>87.0</td>\n      <td>NaN</td>\n      <td>NaN</td>\n      <td>U.S. Department of State, United States Enviro...</td>\n      <td>[[[\"EPA AirNow DOS\",\"http://airnow.gov/index.c...</td>\n      <td>8943523.0</td>\n      <td>NaN</td>\n      <td>17.384050</td>\n      <td>78.456360</td>\n      <td>1</td>\n    </tr>\n    <tr>\n      <th>4</th>\n      <td>3_Sear</td>\n      <td>IND</td>\n      <td>India</td>\n      <td>Pune</td>\n      <td>2017</td>\n      <td>version 2022</td>\n      <td>NaN</td>\n      <td>43.0</td>\n      <td>NaN</td>\n      <td>NaN</td>\n      <td>NaN</td>\n      <td>NaN</td>\n      <td>NaN</td>\n      <td>Central Pollution Control Board India, Environ...</td>\n      <td>http://www.cpcb.gov.in/CAAQM/</td>\n      <td>5727530.0</td>\n      <td>NaN</td>\n      <td>18.505320</td>\n      <td>73.823839</td>\n      <td>1</td>\n    </tr>\n  </tbody>\n</table>\n</div>"
     },
     "execution_count": 16,
     "metadata": {},
     "output_type": "execute_result"
    },
    {
     "name": "stdout",
     "output_type": "stream",
     "text": [
      "Additional Details\n"
     ]
    },
    {
     "data": {
      "text/plain": "               year  pm10_concentration  pm25_concentration  \\\ncount  41364.000000        28177.000000        21566.000000   \nmean    2016.205710           30.687510           19.977822   \nstd        3.120684           30.371733           17.907894   \nmin     2000.000000            1.000000            0.000000   \n25%     2014.000000           16.000000            9.000000   \n50%     2016.000000           22.000000           13.000000   \n75%     2019.000000           31.000000           25.000000   \nmax     2022.000000          540.000000          436.000000   \n\n       no2_concentration  pm10_tempcov  pm25_tempcov   no2_tempcov  \\\ncount       26704.000000  21344.000000  16114.000000  22991.000000   \nmean           18.790743     93.146317     92.542323     93.863903   \nstd            11.909244      9.764701     10.824490      8.141595   \nmin             0.000000     10.000000     10.000000     11.000000   \n25%            10.000000     92.000000     91.000000     93.000000   \n50%            17.000000     97.000000     97.000000     96.000000   \n75%            25.000000     99.000000     99.000000     99.000000   \nmax           211.000000    100.000000    100.000000    100.000000   \n\n         population  population_source      latitude     longitude  \\\ncount  1.716100e+04                0.0  41115.000000  41112.000000   \nmean   7.858431e+05                NaN     40.742536     12.025232   \nstd    2.145706e+06                NaN     16.882423     57.469974   \nmin    0.000000e+00                NaN    -76.010867   -159.366240   \n25%    3.129200e+04                NaN     37.156800     -0.808600   \n50%    1.590630e+05                NaN     43.839700     10.881700   \n75%    6.252900e+05                NaN     49.227045     24.179000   \nmax    3.800102e+07                NaN    176.891634    178.450000   \n\n             who_ms  \ncount  41364.000000  \nmean       0.999782  \nstd        0.014749  \nmin        0.000000  \n25%        1.000000  \n50%        1.000000  \n75%        1.000000  \nmax        1.000000  ",
      "text/html": "<div>\n<style scoped>\n    .dataframe tbody tr th:only-of-type {\n        vertical-align: middle;\n    }\n\n    .dataframe tbody tr th {\n        vertical-align: top;\n    }\n\n    .dataframe thead th {\n        text-align: right;\n    }\n</style>\n<table border=\"1\" class=\"dataframe\">\n  <thead>\n    <tr style=\"text-align: right;\">\n      <th></th>\n      <th>year</th>\n      <th>pm10_concentration</th>\n      <th>pm25_concentration</th>\n      <th>no2_concentration</th>\n      <th>pm10_tempcov</th>\n      <th>pm25_tempcov</th>\n      <th>no2_tempcov</th>\n      <th>population</th>\n      <th>population_source</th>\n      <th>latitude</th>\n      <th>longitude</th>\n      <th>who_ms</th>\n    </tr>\n  </thead>\n  <tbody>\n    <tr>\n      <th>count</th>\n      <td>41364.000000</td>\n      <td>28177.000000</td>\n      <td>21566.000000</td>\n      <td>26704.000000</td>\n      <td>21344.000000</td>\n      <td>16114.000000</td>\n      <td>22991.000000</td>\n      <td>1.716100e+04</td>\n      <td>0.0</td>\n      <td>41115.000000</td>\n      <td>41112.000000</td>\n      <td>41364.000000</td>\n    </tr>\n    <tr>\n      <th>mean</th>\n      <td>2016.205710</td>\n      <td>30.687510</td>\n      <td>19.977822</td>\n      <td>18.790743</td>\n      <td>93.146317</td>\n      <td>92.542323</td>\n      <td>93.863903</td>\n      <td>7.858431e+05</td>\n      <td>NaN</td>\n      <td>40.742536</td>\n      <td>12.025232</td>\n      <td>0.999782</td>\n    </tr>\n    <tr>\n      <th>std</th>\n      <td>3.120684</td>\n      <td>30.371733</td>\n      <td>17.907894</td>\n      <td>11.909244</td>\n      <td>9.764701</td>\n      <td>10.824490</td>\n      <td>8.141595</td>\n      <td>2.145706e+06</td>\n      <td>NaN</td>\n      <td>16.882423</td>\n      <td>57.469974</td>\n      <td>0.014749</td>\n    </tr>\n    <tr>\n      <th>min</th>\n      <td>2000.000000</td>\n      <td>1.000000</td>\n      <td>0.000000</td>\n      <td>0.000000</td>\n      <td>10.000000</td>\n      <td>10.000000</td>\n      <td>11.000000</td>\n      <td>0.000000e+00</td>\n      <td>NaN</td>\n      <td>-76.010867</td>\n      <td>-159.366240</td>\n      <td>0.000000</td>\n    </tr>\n    <tr>\n      <th>25%</th>\n      <td>2014.000000</td>\n      <td>16.000000</td>\n      <td>9.000000</td>\n      <td>10.000000</td>\n      <td>92.000000</td>\n      <td>91.000000</td>\n      <td>93.000000</td>\n      <td>3.129200e+04</td>\n      <td>NaN</td>\n      <td>37.156800</td>\n      <td>-0.808600</td>\n      <td>1.000000</td>\n    </tr>\n    <tr>\n      <th>50%</th>\n      <td>2016.000000</td>\n      <td>22.000000</td>\n      <td>13.000000</td>\n      <td>17.000000</td>\n      <td>97.000000</td>\n      <td>97.000000</td>\n      <td>96.000000</td>\n      <td>1.590630e+05</td>\n      <td>NaN</td>\n      <td>43.839700</td>\n      <td>10.881700</td>\n      <td>1.000000</td>\n    </tr>\n    <tr>\n      <th>75%</th>\n      <td>2019.000000</td>\n      <td>31.000000</td>\n      <td>25.000000</td>\n      <td>25.000000</td>\n      <td>99.000000</td>\n      <td>99.000000</td>\n      <td>99.000000</td>\n      <td>6.252900e+05</td>\n      <td>NaN</td>\n      <td>49.227045</td>\n      <td>24.179000</td>\n      <td>1.000000</td>\n    </tr>\n    <tr>\n      <th>max</th>\n      <td>2022.000000</td>\n      <td>540.000000</td>\n      <td>436.000000</td>\n      <td>211.000000</td>\n      <td>100.000000</td>\n      <td>100.000000</td>\n      <td>100.000000</td>\n      <td>3.800102e+07</td>\n      <td>NaN</td>\n      <td>176.891634</td>\n      <td>178.450000</td>\n      <td>1.000000</td>\n    </tr>\n  </tbody>\n</table>\n</div>"
     },
     "execution_count": 16,
     "metadata": {},
     "output_type": "execute_result"
    },
    {
     "name": "stdout",
     "output_type": "stream",
     "text": [
      "<class 'pandas.core.frame.DataFrame'>\n",
      "RangeIndex: 41364 entries, 0 to 41363\n",
      "Data columns (total 20 columns):\n",
      " #   Column              Non-Null Count  Dtype  \n",
      "---  ------              --------------  -----  \n",
      " 0   who_region          41364 non-null  object \n",
      " 1   iso3                41364 non-null  object \n",
      " 2   country_name        41364 non-null  object \n",
      " 3   city                41252 non-null  object \n",
      " 4   year                41364 non-null  int64  \n",
      " 5   version             41219 non-null  object \n",
      " 6   pm10_concentration  28177 non-null  float64\n",
      " 7   pm25_concentration  21566 non-null  float64\n",
      " 8   no2_concentration   26704 non-null  float64\n",
      " 9   pm10_tempcov        21344 non-null  float64\n",
      " 10  pm25_tempcov        16114 non-null  float64\n",
      " 11  no2_tempcov         22991 non-null  float64\n",
      " 12  type_of_stations    29459 non-null  object \n",
      " 13  reference           40538 non-null  object \n",
      " 14  web_link            31983 non-null  object \n",
      " 15  population          17161 non-null  float64\n",
      " 16  population_source   0 non-null      float64\n",
      " 17  latitude            41115 non-null  float64\n",
      " 18  longitude           41112 non-null  float64\n",
      " 19  who_ms              41364 non-null  int64  \n",
      "dtypes: float64(10), int64(2), object(8)\n",
      "memory usage: 6.3+ MB\n",
      "---------------------------\n",
      "\n",
      "Dataset B: WHO COVID-19 Cases and Deaths (2023)\n",
      "Dataset B Contents\n"
     ]
    },
    {
     "data": {
      "text/plain": "  Date_reported Country_code      Country WHO_region  New_cases  \\\n0    2020-01-03           AF  Afghanistan       EMRO          0   \n1    2020-01-04           AF  Afghanistan       EMRO          0   \n2    2020-01-05           AF  Afghanistan       EMRO          0   \n3    2020-01-06           AF  Afghanistan       EMRO          0   \n4    2020-01-07           AF  Afghanistan       EMRO          0   \n\n   Cumulative_cases  New_deaths  Cumulative_deaths  \n0                 0           0                  0  \n1                 0           0                  0  \n2                 0           0                  0  \n3                 0           0                  0  \n4                 0           0                  0  ",
      "text/html": "<div>\n<style scoped>\n    .dataframe tbody tr th:only-of-type {\n        vertical-align: middle;\n    }\n\n    .dataframe tbody tr th {\n        vertical-align: top;\n    }\n\n    .dataframe thead th {\n        text-align: right;\n    }\n</style>\n<table border=\"1\" class=\"dataframe\">\n  <thead>\n    <tr style=\"text-align: right;\">\n      <th></th>\n      <th>Date_reported</th>\n      <th>Country_code</th>\n      <th>Country</th>\n      <th>WHO_region</th>\n      <th>New_cases</th>\n      <th>Cumulative_cases</th>\n      <th>New_deaths</th>\n      <th>Cumulative_deaths</th>\n    </tr>\n  </thead>\n  <tbody>\n    <tr>\n      <th>0</th>\n      <td>2020-01-03</td>\n      <td>AF</td>\n      <td>Afghanistan</td>\n      <td>EMRO</td>\n      <td>0</td>\n      <td>0</td>\n      <td>0</td>\n      <td>0</td>\n    </tr>\n    <tr>\n      <th>1</th>\n      <td>2020-01-04</td>\n      <td>AF</td>\n      <td>Afghanistan</td>\n      <td>EMRO</td>\n      <td>0</td>\n      <td>0</td>\n      <td>0</td>\n      <td>0</td>\n    </tr>\n    <tr>\n      <th>2</th>\n      <td>2020-01-05</td>\n      <td>AF</td>\n      <td>Afghanistan</td>\n      <td>EMRO</td>\n      <td>0</td>\n      <td>0</td>\n      <td>0</td>\n      <td>0</td>\n    </tr>\n    <tr>\n      <th>3</th>\n      <td>2020-01-06</td>\n      <td>AF</td>\n      <td>Afghanistan</td>\n      <td>EMRO</td>\n      <td>0</td>\n      <td>0</td>\n      <td>0</td>\n      <td>0</td>\n    </tr>\n    <tr>\n      <th>4</th>\n      <td>2020-01-07</td>\n      <td>AF</td>\n      <td>Afghanistan</td>\n      <td>EMRO</td>\n      <td>0</td>\n      <td>0</td>\n      <td>0</td>\n      <td>0</td>\n    </tr>\n  </tbody>\n</table>\n</div>"
     },
     "execution_count": 16,
     "metadata": {},
     "output_type": "execute_result"
    },
    {
     "name": "stdout",
     "output_type": "stream",
     "text": [
      "Additional Details\n"
     ]
    },
    {
     "data": {
      "text/plain": "          New_cases  Cumulative_cases     New_deaths  Cumulative_deaths\ncount  2.950650e+05      2.950650e+05  295065.000000       2.950650e+05\nmean   2.600664e+03      1.306386e+06      23.514659       1.698745e+04\nstd    3.850699e+04      6.086080e+06     142.754287       7.238070e+04\nmin   -1.136000e+04      0.000000e+00   -3520.000000       0.000000e+00\n25%    0.000000e+00      1.733000e+03       0.000000       1.400000e+01\n50%    9.000000e+00      3.122100e+04       0.000000       3.450000e+02\n75%    3.290000e+02      3.562440e+05       3.000000       5.280000e+03\nmax    6.966046e+06      1.034368e+08   11447.000000       1.127152e+06",
      "text/html": "<div>\n<style scoped>\n    .dataframe tbody tr th:only-of-type {\n        vertical-align: middle;\n    }\n\n    .dataframe tbody tr th {\n        vertical-align: top;\n    }\n\n    .dataframe thead th {\n        text-align: right;\n    }\n</style>\n<table border=\"1\" class=\"dataframe\">\n  <thead>\n    <tr style=\"text-align: right;\">\n      <th></th>\n      <th>New_cases</th>\n      <th>Cumulative_cases</th>\n      <th>New_deaths</th>\n      <th>Cumulative_deaths</th>\n    </tr>\n  </thead>\n  <tbody>\n    <tr>\n      <th>count</th>\n      <td>2.950650e+05</td>\n      <td>2.950650e+05</td>\n      <td>295065.000000</td>\n      <td>2.950650e+05</td>\n    </tr>\n    <tr>\n      <th>mean</th>\n      <td>2.600664e+03</td>\n      <td>1.306386e+06</td>\n      <td>23.514659</td>\n      <td>1.698745e+04</td>\n    </tr>\n    <tr>\n      <th>std</th>\n      <td>3.850699e+04</td>\n      <td>6.086080e+06</td>\n      <td>142.754287</td>\n      <td>7.238070e+04</td>\n    </tr>\n    <tr>\n      <th>min</th>\n      <td>-1.136000e+04</td>\n      <td>0.000000e+00</td>\n      <td>-3520.000000</td>\n      <td>0.000000e+00</td>\n    </tr>\n    <tr>\n      <th>25%</th>\n      <td>0.000000e+00</td>\n      <td>1.733000e+03</td>\n      <td>0.000000</td>\n      <td>1.400000e+01</td>\n    </tr>\n    <tr>\n      <th>50%</th>\n      <td>9.000000e+00</td>\n      <td>3.122100e+04</td>\n      <td>0.000000</td>\n      <td>3.450000e+02</td>\n    </tr>\n    <tr>\n      <th>75%</th>\n      <td>3.290000e+02</td>\n      <td>3.562440e+05</td>\n      <td>3.000000</td>\n      <td>5.280000e+03</td>\n    </tr>\n    <tr>\n      <th>max</th>\n      <td>6.966046e+06</td>\n      <td>1.034368e+08</td>\n      <td>11447.000000</td>\n      <td>1.127152e+06</td>\n    </tr>\n  </tbody>\n</table>\n</div>"
     },
     "execution_count": 16,
     "metadata": {},
     "output_type": "execute_result"
    },
    {
     "name": "stdout",
     "output_type": "stream",
     "text": [
      "<class 'pandas.core.frame.DataFrame'>\n",
      "RangeIndex: 295065 entries, 0 to 295064\n",
      "Data columns (total 8 columns):\n",
      " #   Column             Non-Null Count   Dtype \n",
      "---  ------             --------------   ----- \n",
      " 0   Date_reported      295065 non-null  object\n",
      " 1   Country_code       293820 non-null  object\n",
      " 2   Country            295065 non-null  object\n",
      " 3   WHO_region         295065 non-null  object\n",
      " 4   New_cases          295065 non-null  int64 \n",
      " 5   Cumulative_cases   295065 non-null  int64 \n",
      " 6   New_deaths         295065 non-null  int64 \n",
      " 7   Cumulative_deaths  295065 non-null  int64 \n",
      "dtypes: int64(4), object(4)\n",
      "memory usage: 18.0+ MB\n"
     ]
    }
   ],
   "source": [
    "%reset -f\n",
    "%config InteractiveShell.ast_node_interactivity = 'all'\n",
    "\n",
    "def newline(): print(\"---------------------------\\n\")\n",
    "\n",
    "import pandas as pd\n",
    "dataA = pd.read_csv('datasets/A-WHO-air-quality.csv')\n",
    "dataB = pd.read_csv('datasets/B-WHO-covid-infections-deaths.csv')\n",
    "\n",
    "print(\"Dataset A: WHO Air Quality (2023)\")\n",
    "print(\"Dataset A Contents\")\n",
    "dataA.head()\n",
    "print(\"Additional Details\")\n",
    "dataA.describe()\n",
    "dataA.info()\n",
    "\n",
    "newline()\n",
    "\n",
    "print(\"Dataset B: WHO COVID-19 Cases and Deaths (2023)\")\n",
    "print(\"Dataset B Contents\")\n",
    "dataB.head()\n",
    "print(\"Additional Details\")\n",
    "dataB.describe()\n",
    "dataB.info()"
   ],
   "metadata": {
    "collapsed": false
   }
  },
  {
   "cell_type": "code",
   "execution_count": null,
   "outputs": [],
   "source": [],
   "metadata": {
    "collapsed": false
   }
  }
 ],
 "metadata": {
  "kernelspec": {
   "display_name": "Python 3",
   "language": "python",
   "name": "python3"
  },
  "language_info": {
   "codemirror_mode": {
    "name": "ipython",
    "version": 2
   },
   "file_extension": ".py",
   "mimetype": "text/x-python",
   "name": "python",
   "nbconvert_exporter": "python",
   "pygments_lexer": "ipython2",
   "version": "2.7.6"
  }
 },
 "nbformat": 4,
 "nbformat_minor": 0
}
